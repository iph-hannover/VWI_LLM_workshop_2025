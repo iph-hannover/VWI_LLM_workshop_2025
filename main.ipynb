{
 "cells": [
  {
   "cell_type": "markdown",
   "id": "f0c80868",
   "metadata": {},
   "source": [
    "# VWI LLM-Workshop 2025\n",
    "Ihr befindet euch nun in einem \"Jupyter Notebook\". Dieses läuft lokal auf eurem Rechner. In diesem Notebook könnt ihr einzelne Zellen (z. B. Text- oder Code-Blöcke) erstellen und unabhängig voneinander ausführen.\n",
    "Probiert dies gerne gleich aus, indem ihr oben rechts von dieser Zelle auf den play-button drückt."
   ]
  },
  {
   "cell_type": "markdown",
   "id": "9bcbbb40",
   "metadata": {},
   "source": []
  }
 ],
 "metadata": {
  "kernelspec": {
   "display_name": "Python 3 (ipykernel)",
   "language": "python",
   "name": "python3"
  },
  "language_info": {
   "codemirror_mode": {
    "name": "ipython",
    "version": 3
   },
   "file_extension": ".py",
   "mimetype": "text/x-python",
   "name": "python",
   "nbconvert_exporter": "python",
   "pygments_lexer": "ipython3",
   "version": "3.12.10"
  }
 },
 "nbformat": 4,
 "nbformat_minor": 5
}
