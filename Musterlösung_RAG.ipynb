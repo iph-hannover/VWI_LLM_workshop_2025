{
 "cells": [
  {
   "cell_type": "markdown",
   "id": "e153da26",
   "metadata": {},
   "source": [
    "# Retrieval-Augmented Generation (RAG) für Lieferantenberichte mit LangChain – Musterlösung\n",
    "\n",
    "Dieses Notebook zeigt eine vollständige, robuste RAG-Pipeline mit **LangChain** und OpenAI GPT – angepasst für die Lieferantenberichte.\n",
    "\n",
    "- API-Key-Laden aus `.env`\n",
    "- PDF-Pfade: `data/PDFs/`\n",
    "- Exakter Systemprompt (Anweisung) an das LLM\n",
    "- Visualisierung von Chunk-Längen und Retrieval-Score\n",
    "\n",
    "---\n",
    "\n",
    "## Ablauf\n",
    "1. PDFs einlesen (`data/PDFs/`)\n",
    "2. Text in Chunks teilen, analysieren & visualisieren\n",
    "3. Embeddings, Vektorstore & Retriever aufbauen\n",
    "4. Kette mit exaktem Systemprompt (z.B. für eine KI-Prüfung)\n",
    "5. Fragen stellen, relevante Chunks und Scores visualisieren\n",
    "    "
   ]
  },
  {
   "cell_type": "code",
   "execution_count": 62,
   "id": "a9d562eb",
   "metadata": {},
   "outputs": [],
   "source": [
    "# !pip install langchain langchain_community langchain_openai openai pypdf python-dotenv"
   ]
  },
  {
   "cell_type": "code",
   "execution_count": 63,
   "id": "dccb9878",
   "metadata": {},
   "outputs": [],
   "source": [
    "from dotenv import load_dotenv\n",
    "import os\n",
    "import matplotlib.pyplot as plt\n",
    "import numpy as np\n",
    "import textwrap\n",
    "\n",
    "from langchain_community.document_loaders import PyPDFLoader\n",
    "from langchain_text_splitters import RecursiveCharacterTextSplitter\n",
    "from langchain_openai import OpenAIEmbeddings, ChatOpenAI\n",
    "from langchain_community.vectorstores import Chroma\n",
    "from langchain.prompts import PromptTemplate\n",
    "from langchain.chains import RetrievalQA\n",
    "import chromadb\n",
    "\n",
    "# API-Key aus .env laden\n",
    "load_dotenv()\n",
    "os.environ[\"OPENAI_API_KEY\"] = os.getenv(\"OPENAI_API_KEY\")\n",
    "\n",
    "# Parameter für chunk-Auswahl\n",
    "k = 5  # Anzahl der Top-Chunks pro Frage – anpassbar\n"
   ]
  },
  {
   "cell_type": "markdown",
   "id": "e65aaf42",
   "metadata": {},
   "source": [
    "## 1. PDF laden & Metadaten ergänzen\n",
    "\n",
    "Wir lesen alle PDFs ein und hängen jedem Dokument den Dateinamen als Metadaten an – so behalten wir die Herkunft im Blick.\n"
   ]
  },
  {
   "cell_type": "code",
   "execution_count": 64,
   "id": "70894b7d",
   "metadata": {},
   "outputs": [
    {
     "name": "stdout",
     "output_type": "stream",
     "text": [
      "17 Seiten aus PDF-Dateien geladen.\n"
     ]
    }
   ],
   "source": [
    "# PDFs laden & Metadaten\n",
    "pdf_dir = \"data/PDFs\"\n",
    "all_docs = []\n",
    "\n",
    "for fn in os.listdir(pdf_dir):\n",
    "    if not fn.endswith(\".pdf\"): continue\n",
    "    loader = PyPDFLoader(os.path.join(pdf_dir, fn))\n",
    "    docs = loader.load()\n",
    "    supplier_name = fn.replace(\".pdf\", \"\")\n",
    "    for d in docs:\n",
    "        d.metadata[\"source_file\"] = fn\n",
    "        d.metadata[\"supplier\"] = supplier_name\n",
    "    all_docs.extend(docs)\n",
    "\n",
    "print(f\"{len(all_docs)} Seiten aus PDF-Dateien geladen.\")\n",
    "\n",
    "\n"
   ]
  },
  {
   "cell_type": "markdown",
   "id": "0a2237c6",
   "metadata": {},
   "source": [
    "## 2. Chunking mit Metadaten\n",
    "\n",
    "Wir zerteilen die Texte in handliche Chunks (~800 Zeichen) mit 100 Zeichen Überschneidung, um gezieltes Retrieval zu ermöglichen."
   ]
  },
  {
   "cell_type": "code",
   "execution_count": 65,
   "id": "a2950c34",
   "metadata": {},
   "outputs": [
    {
     "data": {
      "image/png": "[encoded data removed]",
      "text/plain": [
       "<Figure size 640x480 with 1 Axes>"
      ]
     },
     "metadata": {},
     "output_type": "display_data"
    },
    {
     "name": "stdout",
     "output_type": "stream",
     "text": [
      "112 Chunks insgesamt.\n"
     ]
    }
   ],
   "source": [
    "text_splitter = RecursiveCharacterTextSplitter(\n",
    "    chunk_size=500,\n",
    "    chunk_overlap=0,\n",
    "    separators=[\"\\n\\n\", \"\\n\", \".\", \"!\", \"?\", \" \", \"\"]\n",
    ")\n",
    "split_docs = text_splitter.split_documents(all_docs)\n",
    "\n",
    "chunk_lens = [len(d.page_content.split()) for d in split_docs]\n",
    "plt.hist(chunk_lens, bins=20, color='royalblue')\n",
    "plt.title(\"Wortlängen der Chunks\")\n",
    "plt.xlabel(\"Wortanzahl pro Chunk\")\n",
    "plt.ylabel(\"Anzahl Chunks\")\n",
    "plt.show()\n",
    "\n",
    "print(f\"{len(split_docs)} Chunks insgesamt.\")\n",
    "\n"
   ]
  },
  {
   "cell_type": "markdown",
   "id": "0c4c70d2",
   "metadata": {},
   "source": [
    "## 3. Embeddings & Vektorstore (Chroma)\n",
    "\n",
    "Die Chunks werden in Embeddings umgewandelt und im Vektorstore abgelegt.\n"
   ]
  },
  {
   "cell_type": "code",
   "execution_count": 66,
   "id": "83a0a273",
   "metadata": {},
   "outputs": [
    {
     "name": "stdout",
     "output_type": "stream",
     "text": [
      "✅ Vektorstore erstellt (Duplikate gelöscht)\n"
     ]
    }
   ],
   "source": [
    "# Vektorstore (sauber neu erstellen)\n",
    "embeddings = OpenAIEmbeddings()\n",
    "client = chromadb.PersistentClient(path=\"db/\")\n",
    "if \"chunks\" in [c.name for c in client.list_collections()]:\n",
    "    client.delete_collection(\"chunks\")\n",
    "\n",
    "vectordb = Chroma(client=client, collection_name=\"chunks\",\n",
    "                   embedding_function=embeddings)\n",
    "vectordb.add_documents(split_docs)\n",
    "print(\"✅ Vektorstore erstellt (Duplikate gelöscht)\")\n",
    "\n",
    "\n"
   ]
  },
  {
   "cell_type": "markdown",
   "id": "44c5d747",
   "metadata": {},
   "source": [
    "## 4. Prompt-Template definieren\n",
    "\n",
    "Ein allgemeines, strenges Prompt, das ausschließlich auf den Kontext zugreift und kurze, präzise Antworten lierfert."
   ]
  },
  {
   "cell_type": "code",
   "execution_count": 67,
   "id": "4b078d8a",
   "metadata": {},
   "outputs": [],
   "source": [
    "# Prompt-Template\n",
    "prompt = PromptTemplate(\n",
    "    input_variables=[\"context\",\"question\"],\n",
    "    template=\"\"\"Du bist ein strenger KI‑Prüfer für unsere Lieferantenberichte.\n",
    "Verwende ausschließlich den Kontext (Chunks).\n",
    "Gib die Antwort präzise (max. 5 Sätze).\n",
    "Falls du keine Antwort findest, sage \"Keine Antwort gefunden\".\n",
    "Sei besonders vorsichtig bei Fragen zu Personen. Überprüfe die Chunks sorgfältig und nenne nur Personen, \n",
    "die im Kontext erwähnt werden. Achte darauf, dass du die Personen den Unternehmen (steht in den Metadaten vor jedem Chunk) richtig zuordnest.\n",
    "Wenn die gesuchten Personen nicht im Kontext erwähnt werden, antworte dass du zu diesem Unternehmen keine Personen gefunden hast.\n",
    "Gehe zur Beantwortung der Frage so vor, dass du, wenn du die Antwort nicht findest, \n",
    "die Chunks nochmal sorgfältig durchliest und die Antwort dann gibst.\n",
    "\n",
    "\n",
    "Kontext:\n",
    "{context}\n",
    "\n",
    "Frage: {question}\n",
    "Antwort:\"\"\"\n",
    ")"
   ]
  },
  {
   "cell_type": "markdown",
   "id": "aca21599",
   "metadata": {},
   "source": [
    "## 6. Retriever‑ und LLM‑Chain aufsetzen\n",
    "\n",
    "Wir nutzen GPT-3.5 Turbo für das RetrievalQA‑Setup. k ist flexible einstellbar."
   ]
  },
  {
   "cell_type": "code",
   "execution_count": 68,
   "id": "f1cc40af",
   "metadata": {},
   "outputs": [],
   "source": [
    "# RetrievalQA Chain\n",
    "llm = ChatOpenAI(model=\"gpt-4o-mini\", temperature=0)\n",
    "retriever = vectordb.as_retriever(search_kwargs={\"k\": k})\n",
    "qa_chain = RetrievalQA.from_chain_type(\n",
    "    llm=llm, retriever=retriever,\n",
    "    chain_type=\"stuff\",  # aktuell empfohlen\n",
    "    chain_type_kwargs={\"prompt\": prompt},\n",
    "    return_source_documents=True\n",
    ")\n",
    "\n"
   ]
  },
  {
   "cell_type": "markdown",
   "id": "f2a304ba",
   "metadata": {},
   "source": [
    "## 7. Fragen beantworten & Top‑Chunks anzeigen\n",
    "\n",
    "Wir iterieren über deine 6 Fragen, geben die Antwort aus und zeigen die 3 relevantesten Chunks mit Herkunft.\n"
   ]
  },
  {
   "cell_type": "code",
   "execution_count": 69,
   "id": "609687c7",
   "metadata": {},
   "outputs": [
    {
     "name": "stdout",
     "output_type": "stream",
     "text": [
      "\n",
      "================================================================================\n",
      "Frage 1: Welche Lieferanten für Halbzeuge haben wir?\n",
      "\n",
      "Antwort: Die Lieferanten für Halbzeuge sind die Qualitätsfuchs GmbH und die Sparfuchs GmbH.\n",
      "\n",
      "Top relevante Chunks:\n",
      "[1] Qualitätsfuchs GmbH (Qualitätsfuchs GmbH.pdf):\n",
      "haben ihren Preis – einen Preis, den man durchaus spürt, wenn man die Rechnungen am Monatsende gegenüberstellt. Die Qualitätsfuchs GmbH hat sich auf die Belieferung von Industrieunternehmen mit hochwertigen Halbzeugen spezialisiert. Ob Bleche, Rohre, Stangen, Profile oder Sonderformen – das...\n",
      "\n",
      "================================================================================\n",
      "Frage 2: Welche Lieferanten für Präzisionszylinder haben wir aktuell?\n",
      "\n",
      "Antwort: Aktuell haben wir die Zylinder AG als Hauptlieferanten für hochpräzise Zylinder. Zudem wird die Präzisions GmbH erneut als Lieferantenkandidat in Betracht gezogen, da die Qualität der Zylinder AG sich verschlechtert hat.\n",
      "\n",
      "Top relevante Chunks:\n",
      "[1] Präzisions AG (Präzisions AG.pdf):\n",
      "In den letzten Monaten wurde in unserem Hause vermehrt diskutiert, ob es sinnvoll wäre, die Präzisions GmbH erneut als Lieferantenkandidat aktiv zu prüfen. Die Gründe hierfür sind vielfältig: Einerseits hat sich die Qualität der Zylinder AG zunehmend verschlechtert, andererseits wäre es...\n",
      "\n",
      "================================================================================\n",
      "Frage 3: Welche Probleme treten bei der Zylinder AG auf?\n",
      "\n",
      "Antwort: Bei der Zylinder AG treten mehrere Probleme auf, darunter eine zunehmende Zahl von Beanstandungen und deutliche Qualitätsschwankungen. Die Qualitätssicherung ist das größte Problem, da nur rund ein Drittel der gelieferten Zylinder die geforderten Qualitätsstandards ohne Beanstandung erreicht. Besonders in Zeiten hoher Auftragsauslastung steigen die Fehlerquoten erheblich an. Zudem zeigt sich, dass die Organisation des Unternehmens an ihre Belastungsgrenzen stößt, was durch eine hohe personelle Fluktuation verstärkt wird. Die Kommunikation hat sich ebenfalls verschlechtert, was die Geschäftsbeziehung zusätzlich belastet.\n",
      "\n",
      "Top relevante Chunks:\n",
      "[1] Zylinder AG (Zylinder AG.pdf):\n",
      "Doch diese positive Entwicklung konnte leider nicht dauerhaft gehalten werden. Im Laufe der Jahre häuften sich die Schwierigkeiten. Die Zahl der Beanstandungen nahm zu, die Qualitätsschwankungen wurden deutlicher, und die Kommunikation verschlechterte sich zusehends. Heute müssen wir...\n",
      "\n",
      "================================================================================\n",
      "Frage 4: Wieso beliefert uns die Präzisions GmbH aktuell nicht?\n",
      "\n",
      "Antwort: Die Präzisions GmbH beliefert uns aktuell nicht, da wir sie vor einigen Jahren aufgrund durchwachsener Qualität und hoher Preise zunächst nicht als Hauptlieferanten etabliert haben. Zudem wurde in den letzten Monaten diskutiert, ob es sinnvoll wäre, die Präzisions GmbH erneut als Lieferantenkandidat zu prüfen, da die Qualität der Zylinder AG sich verschlechtert hat. Die Abhängigkeit von einem einzigen Hauptlieferanten soll ebenfalls reduziert werden. Daher haben wir uns entschieden, die Zusammenarbeit mit der Zylinder AG zu intensivieren, die zu diesem Zeitpunkt stabiler erschien. Die Präzisions GmbH rückt jedoch nach mehreren Jahren wieder in den Fokus unserer Überlegungen.\n",
      "\n",
      "Top relevante Chunks:\n",
      "[1] Präzisions AG (Präzisions AG.pdf):\n",
      "Ein weiteres wichtiges Argument für die Präzisions GmbH ist die positive Entwicklung im Bereich Liefertreue. Während viele Wettbewerber mit langen Vorlaufzeiten kämpfen, scheint die Präzisions GmbH durch konsequenten Aufbau eigener Lagerpuffer und eine vorausschauende Fertigungsplanung inzwischen...\n",
      "\n",
      "================================================================================\n",
      "Frage 5: Wer ist unser/e Ansprechpartner/in bei der Sparfuchs GmbH und wer bei der Qualitätsfuchs GmbH?\n",
      "\n",
      "Antwort: Bei der Sparfuchs GmbH sind die Ansprechpartner Herr Mustermann und Frau Musterfrau. Bei der Qualitätsfuchs GmbH werden keine spezifischen Personen erwähnt.\n",
      "\n",
      "Top relevante Chunks:\n",
      "[1] Sparfuchs GmbH (Sparfuchs GmbH.pdf):\n",
      "Sparfuchs nicht von grundsätzlicher Unzuverlässigkeit geprägt ist. Die gelieferte Ware entspricht den vereinbarten technischen Spezifikationen, Reklamationen werden grundsätzlich anerkannt und bearbeitet, und auch bei der Kommunikation zeigt sich das Unternehmen kooperativ, wenn auch nicht immer...\n",
      "\n",
      "================================================================================\n",
      "Frage 6: Welchen groeßen Vorteil bietet die Sparfuchs GmbH gegenüber der Qualitätsfuchs GmbH?\n",
      "\n",
      "Antwort: Die Sparfuchs GmbH bietet den Vorteil von günstigen Preisen und hoher Materialverfügbarkeit, insbesondere in schwierigen Marktsituationen. Sie ist ein spezialisierter Lieferant mit einem flexiblen, breit gefächerten europäischen Beschaffungsnetzwerk. Dies macht Sparfuchs besonders attraktiv für kostenkritische Projekte, da sie regelmäßig die wirtschaftlichste Bezugsquelle darstellt. Im Vergleich dazu positioniert sich die Qualitätsfuchs GmbH als Anbieter mit höheren Preisen, die für ihre Qualitätsstandards und Serviceleistungen stehen.\n",
      "\n",
      "Top relevante Chunks:\n",
      "[1] Qualitätsfuchs GmbH (Qualitätsfuchs GmbH.pdf):\n",
      "Sparfuchs verlangen würde. In Einzelfällen, vor allem bei standardisierten Massenmaterialien, können die Preisunterschiede sogar noch deutlicher ausfallen. Hier zeigt sich sehr klar die strategische Positionierung von Qualitätsfuchs: Das Unternehmen tritt nicht an, um der günstigste Anbieter am...\n",
      "\n",
      "================================================================================\n",
      "Frage 7: Wurde die Präzisions GmbH wegen schlechter Qualität oder wegen zu hoher Preise nicht als Hauptlieferant ausgewählt?\n",
      "\n",
      "Antwort: Die Präzisions GmbH wurde nicht als Hauptlieferant ausgewählt wegen durchwachsener Qualität und hoher Preise.\n",
      "\n",
      "Top relevante Chunks:\n",
      "[1] Präzisions AG (Präzisions AG.pdf):\n",
      "könnte auch eine mittelfristige Mengenbündelung helfen, um bessere Konditionen zu erzielen. Zusammenfassend lässt sich sagen: Die Präzisions GmbH hat in den vergangenen Jahren offenbar aus ihren Schwächen gelernt, ihre Prozesse professionalisiert und sich in wichtigen Bereichen deutlich...\n"
     ]
    }
   ],
   "source": [
    "# Fragen stellen & Ausgaben\n",
    "fragen = [\n",
    "    \"Welche Lieferanten für Halbzeuge haben wir?\",\n",
    "    \"Welche Lieferanten für Präzisionszylinder haben wir aktuell?\",\n",
    "    \"Welche Probleme treten bei der Zylinder AG auf?\",\n",
    "    \"Wieso beliefert uns die Präzisions GmbH aktuell nicht?\",\n",
    "    \"Wer ist unser/e Ansprechpartner/in bei der Sparfuchs GmbH und wer bei der Qualitätsfuchs GmbH?\",\n",
    "    \"Welchen groeßen Vorteil bietet die Sparfuchs GmbH gegenüber der Qualitätsfuchs GmbH?\",\n",
    "    \"Wurde die Präzisions GmbH wegen schlechter Qualität oder wegen zu hoher Preise nicht als Hauptlieferant ausgewählt?\"\n",
    "]\n",
    "\n",
    "\n",
    "\n",
    "for i, frage in enumerate(fragen):\n",
    "    print(\"\\n\" + \"=\"*80)\n",
    "    print(f\"Frage {i+1}: {frage}\")\n",
    "    result = qa_chain({\"query\": frage})\n",
    "    print(\"\\nAntwort:\", result[\"result\"])\n",
    "    print(f\"\\nTop relevante Chunks:\")\n",
    "    for idx, doc in enumerate(result[\"source_documents\"][:1]):\n",
    "        sup = doc.metadata.get(\"supplier\", \"unbekannt\")\n",
    "        src = doc.metadata.get(\"source_file\", \"unbekannt\")\n",
    "        print(f\"[{idx+1}] {sup} ({src}):\")\n",
    "        print(textwrap.shorten(doc.page_content, width=300, placeholder=\"...\"))\n",
    "\n"
   ]
  }
 ],
 "metadata": {
  "kernelspec": {
   "display_name": ".rag",
   "language": "python",
   "name": "python3"
  },
  "language_info": {
   "codemirror_mode": {
    "name": "ipython",
    "version": 3
   },
   "file_extension": ".py",
   "mimetype": "text/x-python",
   "name": "python",
   "nbconvert_exporter": "python",
   "pygments_lexer": "ipython3",
   "version": "3.11.9"
  }
 },
 "nbformat": 4,
 "nbformat_minor": 5
}
