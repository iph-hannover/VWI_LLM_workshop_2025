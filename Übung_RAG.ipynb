{
 "cells": [
  {
   "cell_type": "markdown",
   "id": "68fcc151",
   "metadata": {},
   "source": [
    "# RAG Explore: Interaktives Experimentieren mit Retrieval-Augmented Generation\n",
    "\n",
    "In diesem Notebook kannst du alle wichtigen Parameter einer RAG-Pipeline mit LangChain selbst anpassen und die Auswirkungen direkt beobachten.\n",
    "\n",
    "**Was kannst du hier explorieren?**\n",
    "- Chunkgröße & Overlap\n",
    "- Prompt-Formulierung\n",
    "- Anzahl der Top-k Chunks für das Retrieval\n",
    "\n",
    "**Ziel:**\n",
    "Verstehe, wie sich die Parameter auf die Qualität der Antworten und die Auswahl der Chunks auswirken. Probiere verschiedene Kombinationen aus und diskutiere die Ergebnisse!\n",
    "\n",
    "---\n"
   ]
  },
  {
   "cell_type": "code",
   "execution_count": 18,
   "id": "eaa7e15d",
   "metadata": {},
   "outputs": [],
   "source": [
    "# !pip install langchain langchain_community langchain_openai openai pypdf python-dotenv"
   ]
  },
  {
   "cell_type": "code",
   "execution_count": 2,
   "id": "9be9e91a",
   "metadata": {},
   "outputs": [],
   "source": [
    "from dotenv import load_dotenv\n",
    "import os\n",
    "import matplotlib.pyplot as plt\n",
    "import numpy as np\n",
    "import textwrap\n",
    "\n",
    "from langchain_community.document_loaders import PyPDFLoader\n",
    "from langchain_text_splitters import RecursiveCharacterTextSplitter\n",
    "from langchain_openai import OpenAIEmbeddings, ChatOpenAI\n",
    "from langchain_community.vectorstores import Chroma\n",
    "from langchain.prompts import PromptTemplate\n",
    "from langchain.chains import RetrievalQA\n",
    "import chromadb\n",
    "\n",
    "# API-Key aus .env laden\n",
    "load_dotenv()\n",
    "os.environ[\"OPENAI_API_KEY\"] = os.getenv(\"OPENAI_API_KEY\")\n"
   ]
  },
  {
   "cell_type": "markdown",
   "id": "bb5bd355",
   "metadata": {},
   "source": [
    "## 1. PDFs einlesen\n",
    "\n",
    "Hier werden die vier Lieferantenberichte geladen und als Dokumente (je Seite) gespeichert."
   ]
  },
  {
   "cell_type": "code",
   "execution_count": 3,
   "id": "5ec14858",
   "metadata": {},
   "outputs": [
    {
     "name": "stdout",
     "output_type": "stream",
     "text": [
      "17 Seiten aus PDF-Dateien geladen.\n"
     ]
    }
   ],
   "source": [
    "pdf_dir = \"data/PDFs\"\n",
    "all_docs = []\n",
    "\n",
    "for fn in os.listdir(pdf_dir):\n",
    "    if not fn.endswith(\".pdf\"): continue\n",
    "    loader = PyPDFLoader(os.path.join(pdf_dir, fn))\n",
    "    docs = loader.load()\n",
    "    supplier_name = fn.replace(\".pdf\", \"\")\n",
    "    for d in docs:\n",
    "        d.metadata[\"source_file\"] = fn\n",
    "        d.metadata[\"supplier\"] = supplier_name\n",
    "    all_docs.extend(docs)\n",
    "\n",
    "print(f\"{len(all_docs)} Seiten aus PDF-Dateien geladen.\")\n"
   ]
  },
  {
   "cell_type": "markdown",
   "id": "d0f98922",
   "metadata": {},
   "source": [
    "## 2. Chunking – **Experimentier-Bereich!**\n",
    "\n",
    "Ändere hier Chunkgröße und Overlap und sieh, wie sich die Chunks ändern!"
   ]
  },
  {
   "cell_type": "code",
   "execution_count": 4,
   "id": "a5d1e0fe",
   "metadata": {},
   "outputs": [
    {
     "data": {
      "image/png": "[encoded data removed]",
      "text/plain": [
       "<Figure size 640x480 with 1 Axes>"
      ]
     },
     "metadata": {},
     "output_type": "display_data"
    },
    {
     "name": "stdout",
     "output_type": "stream",
     "text": [
      "271 Chunks (Größe: 300, Overlap: 100)\n"
     ]
    }
   ],
   "source": [
    "# <<< Hier Chunkgröße/Overlap anpassen >>>\n",
    "chunk_size = 300      # z.B. 500, 800, 1200\n",
    "chunk_overlap = 100   # z.B. 50, 100, 200\n",
    "\n",
    "text_splitter = RecursiveCharacterTextSplitter(\n",
    "    chunk_size=chunk_size,\n",
    "    chunk_overlap=chunk_overlap,\n",
    "    separators=[\"\\n\\n\", \"\\n\", \".\", \"!\", \"?\", \" \", \"\"]\n",
    ")\n",
    "split_docs = text_splitter.split_documents(all_docs)\n",
    "\n",
    "chunk_lens = [len(d.page_content.split()) for d in split_docs]\n",
    "plt.hist(chunk_lens, bins=20, color='royalblue')\n",
    "plt.title(\"Wortlängen der Chunks\")\n",
    "plt.xlabel(\"Wortanzahl pro Chunk\")\n",
    "plt.ylabel(\"Anzahl Chunks\")\n",
    "plt.show()\n",
    "\n",
    "print(f\"{len(split_docs)} Chunks (Größe: {chunk_size}, Overlap: {chunk_overlap})\")\n"
   ]
  },
  {
   "cell_type": "markdown",
   "id": "fc62e934",
   "metadata": {},
   "source": [
    "## 3. Embeddings und Vektorstore (Chroma)\n",
    "\n",
    "Wandle die Chunks in Embeddings um und speichere sie im Vektorstore."
   ]
  },
  {
   "cell_type": "code",
   "execution_count": 5,
   "id": "6407c6b9",
   "metadata": {},
   "outputs": [
    {
     "name": "stderr",
     "output_type": "stream",
     "text": [
      "C:\\Users\\pappe\\AppData\\Local\\Temp\\ipykernel_536\\431600114.py:6: LangChainDeprecationWarning: The class `Chroma` was deprecated in LangChain 0.2.9 and will be removed in 1.0. An updated version of the class exists in the :class:`~langchain-chroma package and should be used instead. To use it run `pip install -U :class:`~langchain-chroma` and import as `from :class:`~langchain_chroma import Chroma``.\n",
      "  vectordb = Chroma(client=client, collection_name=\"chunks\",\n"
     ]
    },
    {
     "name": "stdout",
     "output_type": "stream",
     "text": [
      "✅ Vektorstore erstellt (Duplikate gelöscht)\n"
     ]
    }
   ],
   "source": [
    "embeddings = OpenAIEmbeddings()\n",
    "client = chromadb.PersistentClient(path=\"db/\")\n",
    "if \"chunks\" in [c.name for c in client.list_collections()]:\n",
    "    client.delete_collection(\"chunks\")\n",
    "\n",
    "vectordb = Chroma(client=client, collection_name=\"chunks\",\n",
    "                   embedding_function=embeddings)\n",
    "vectordb.add_documents(split_docs)\n",
    "print(\"✅ Vektorstore erstellt (Duplikate gelöscht)\")\n"
   ]
  },
  {
   "cell_type": "markdown",
   "id": "3cb5d793",
   "metadata": {},
   "source": [
    "## 4. Retriever & Chatbot – **Experimentier-Bereich!**\n",
    "\n",
    "Passe hier top_k (wie viele relevante Chunks?) an und formuliere den Prompt beliebig um!"
   ]
  },
  {
   "cell_type": "code",
   "execution_count": 6,
   "id": "37b9c610",
   "metadata": {},
   "outputs": [],
   "source": [
    "# <<< Hier top_k und Prompt anpassen >>>\n",
    "top_k = 3\n",
    "custom_prompt = PromptTemplate(\n",
    "    input_variables=[\"context\", \"question\"],\n",
    "    template=\"\"\"Du bist ein Rechercheassistent für Lieferantenberichte. Antworte nur auf Basis des Kontexts.\n",
    "Kontext:\n",
    "{context}\n",
    "Frage: {question}\n",
    "Antwort:\"\"\"\n",
    ")\n",
    "llm = ChatOpenAI(model=\"gpt-4o-mini\", temperature=0)\n",
    "retriever = vectordb.as_retriever(search_kwargs={\"k\": top_k})\n",
    "qa_chain = RetrievalQA.from_chain_type(\n",
    "    llm=llm,\n",
    "    retriever=retriever,\n",
    "    chain_type_kwargs={\"prompt\": custom_prompt},\n",
    "    return_source_documents=True\n",
    ")\n"
   ]
  },
  {
   "cell_type": "markdown",
   "id": "8d9a08fb",
   "metadata": {},
   "source": [
    "## 5. Eigene Frage testen – **Experimentier-Bereich!**\n",
    "\n",
    "Gib hier deine eigene Frage ein!"
   ]
  },
  {
   "cell_type": "code",
   "execution_count": 7,
   "id": "35b49042",
   "metadata": {},
   "outputs": [
    {
     "name": "stderr",
     "output_type": "stream",
     "text": [
      "C:\\Users\\pappe\\AppData\\Local\\Temp\\ipykernel_536\\2092046178.py:2: LangChainDeprecationWarning: The method `Chain.__call__` was deprecated in langchain 0.1.0 and will be removed in 1.0. Use :meth:`~invoke` instead.\n",
      "  result = qa_chain({\"query\": frage})\n"
     ]
    },
    {
     "name": "stdout",
     "output_type": "stream",
     "text": [
      "Frage: Welche Lieferanten für Halbzeuge haben wir?\n",
      "Antwort: Die Sparfuchs GmbH ist unser wichtiger Lieferant für metallische Halbzeuge wie Bleche, Stangen, Rohre und Profile. Es wurden keine weiteren Lieferanten für Halbzeuge im Kontext erwähnt.\n",
      "\n",
      "Top-3 relevante Chunks:\n",
      "[1] Sparfuchs GmbH (Sparfuchs GmbH.pdf):\n",
      "Die Sparfuchs GmbH hat sich auf den Handel mit Halbzeugen spezialisiert. Insbesondere im Bereich der metallischen Halbzeuge — Bleche, Stangen, Rohre und Profile — zählt das Unternehmen zu unseren wichtigsten Lieferanten. Was Sparfuchs dabei von anderen\n",
      "[2] Qualitätsfuchs GmbH (Qualitätsfuchs GmbH.pdf):\n",
      "Durchschnitt zahlen wir für die gleichen Halbzeuge etwa das 1,5 -fache des Preises, den Sparfuchs verlangen würde. In Einzelfällen, vor allem bei standardisierten Massenmaterialien, können die Preisunterschiede sogar noch deutlicher ausfallen. Hier\n",
      "[3] Sparfuchs GmbH (Sparfuchs GmbH.pdf):\n",
      "Ein weiteres Thema, das die Zusammenarbeit mit Sparfuchs begleitet, ist die Qualität der gelieferten Halbzeuge. Grundsätzlich erhalten wir stets die spezifizierte Ware, es handelt sich also in aller Regel um normgerechtes Material mit den richtigen Abmessu ngen und\n"
     ]
    }
   ],
   "source": [
    "frage = \"Welche Lieferanten für Halbzeuge haben wir?\"  # Beliebige Frage eintragen\n",
    "result = qa_chain({\"query\": frage})\n",
    "print(\"Frage:\", frage)\n",
    "print(\"Antwort:\", result[\"result\"])\n",
    "\n",
    "print(f\"\\nTop-{top_k} relevante Chunks:\")\n",
    "for idx, doc in enumerate(result[\"source_documents\"][:top_k], 1):\n",
    "    sup = doc.metadata.get(\"supplier\", \"unbekannt\")\n",
    "    src = doc.metadata.get(\"source_file\", \"unbekannt\")\n",
    "    print(f\"[{idx}] {sup} ({src}):\")\n",
    "    print(textwrap.shorten(doc.page_content.strip(), width=300, placeholder=\"...\"))\n"
   ]
  },
  {
   "cell_type": "code",
   "execution_count": 25,
   "id": "f2256769",
   "metadata": {},
   "outputs": [
    {
     "name": "stdout",
     "output_type": "stream",
     "text": [
      "Frage: Welche Lieferanten für Präzisionszylinder haben wir aktuell?\n",
      "Antwort: Aktuell haben wir die Zylinder AG als Hauptlieferanten für hochpräzise Zylinder. Es wird jedoch empfohlen, die Präzisions GmbH erneut als Lieferantenkandidaten zu prüfen, da die Qualität der Zylinder AG sich verschlechtert hat und eine Diversifizierung der Lieferantenbasis strategisch sinnvoll wäre.\n"
     ]
    }
   ],
   "source": [
    "frage = \"Welche Lieferanten für Präzisionszylinder haben wir aktuell?\" # <<< Hier beliebige Frage stellen!\n",
    "result = qa_chain({\"query\": frage})\n",
    "print(\"Frage:\", frage)\n",
    "print(\"Antwort:\", result[\"result\"])\n"
   ]
  },
  {
   "cell_type": "code",
   "execution_count": 26,
   "id": "ae9d7b08",
   "metadata": {},
   "outputs": [
    {
     "name": "stdout",
     "output_type": "stream",
     "text": [
      "Frage: Welche Probleme treten bei der Zylinder AG auf?\n",
      "Antwort: Bei der Zylinder AG treten mehrere Probleme auf, insbesondere in Bezug auf die Qualitätssicherung und die organisatorische Leistungsfähigkeit. Die Kundenanforderungen können offenbar nicht vollständig umgesetzt werden, was in Zeiten hoher Auftragsauslastung zu einer signifikanten Erhöhung der Fehlerquoten führt. Dies deutet darauf hin, dass die Organisation des Unternehmens an ihre Belastungsgrenzen stößt. Insgesamt befindet sich die Zylinder AG in einer kritischen Schieflage zwischen den hohen Anforderungen an Präzision und der eigenen Fähigkeit, diese Anforderungen zu erfüllen.\n"
     ]
    }
   ],
   "source": [
    "frage = \"Welche Probleme treten bei der Zylinder AG auf?\" # <<< Hier beliebige Frage stellen!\n",
    "result = qa_chain({\"query\": frage})\n",
    "print(\"Frage:\", frage)\n",
    "print(\"Antwort:\", result[\"result\"])\n"
   ]
  },
  {
   "cell_type": "code",
   "execution_count": 27,
   "id": "68205844",
   "metadata": {},
   "outputs": [
    {
     "name": "stdout",
     "output_type": "stream",
     "text": [
      "Frage: Wieso beliefert uns die Präzisions GmbH aktuell nicht?\n",
      "Antwort: Die Präzisions GmbH beliefert uns aktuell nicht, weil die Prozessstabilität in der Vergangenheit noch nicht ausgereift war. Es gab Probleme mit der Abhängigkeit einzelner Fertigungslose von den verantwortlichen Maschinenbedienern, der Auslastung der Maschinen und den Rahmenbedingungen der Fertigungsschichten. Diese Faktoren haben dazu geführt, dass die Präzisions GmbH nicht in der Lage war, unsere Anforderungen zuverlässig zu erfüllen.\n"
     ]
    }
   ],
   "source": [
    "frage = \"Wieso beliefert uns die Präzisions GmbH aktuell nicht?\" # <<< Hier beliebige Frage stellen!\n",
    "result = qa_chain({\"query\": frage})\n",
    "print(\"Frage:\", frage)\n",
    "print(\"Antwort:\", result[\"result\"])\n"
   ]
  },
  {
   "cell_type": "code",
   "execution_count": 28,
   "id": "8bc735dd",
   "metadata": {},
   "outputs": [
    {
     "name": "stdout",
     "output_type": "stream",
     "text": [
      "Frage: Wer ist unser/e Ansprechpartner/in bei der Sparfuchs GmbH und wer bei der Qualitätsfuchs GmbH?\n",
      "Antwort: Bei der Sparfuchs GmbH ist kein spezifischer Ansprechpartner genannt. Bei der Qualitätsfuchs GmbH sind die Ansprechpartner hervorragend geschult, technisch versiert und jederzeit ansprechbar, jedoch wird kein individueller Ansprechpartner genannt.\n"
     ]
    }
   ],
   "source": [
    "frage = \"Wer ist unser/e Ansprechpartner/in bei der Sparfuchs GmbH und wer bei der Qualitätsfuchs GmbH?\" # <<< Hier beliebige Frage stellen!\n",
    "result = qa_chain({\"query\": frage})\n",
    "print(\"Frage:\", frage)\n",
    "print(\"Antwort:\", result[\"result\"])\n"
   ]
  },
  {
   "cell_type": "code",
   "execution_count": 29,
   "id": "81cffaa3",
   "metadata": {},
   "outputs": [
    {
     "name": "stdout",
     "output_type": "stream",
     "text": [
      "Frage: Welchen groeßen Vorteil bietet die Sparfuchs GmbH gegenüber der Qualitätsfuchs GmbH?\n",
      "Antwort: Die Sparfuchs GmbH bietet den Vorteil einer sehr flexiblen Angebotserstellung, die es ermöglicht, individuell und tagesaktuell zu kalkulieren. Dies steht im Gegensatz zu vielen anderen Lieferanten, die starre Preislisten verwenden.\n"
     ]
    }
   ],
   "source": [
    "frage = \"Welchen groeßen Vorteil bietet die Sparfuchs GmbH gegenüber der Qualitätsfuchs GmbH?\" # <<< Hier beliebige Frage stellen!\n",
    "result = qa_chain({\"query\": frage})\n",
    "print(\"Frage:\", frage)\n",
    "print(\"Antwort:\", result[\"result\"])"
   ]
  },
  {
   "cell_type": "code",
   "execution_count": 31,
   "id": "20fb1902",
   "metadata": {},
   "outputs": [
    {
     "name": "stdout",
     "output_type": "stream",
     "text": [
      "Frage: Wurde die Präzisions GmbH wegen schlechter Qualität oder wegen zu hoher Preise nicht als Hauptlieferant ausgewählt?\n",
      "Antwort: Die Präzisions GmbH wurde nicht als Hauptlieferant ausgewählt, weil die Angebotskonditionen deutlich über dem Marktdurchschnitt lagen, also wegen zu hoher Preise.\n"
     ]
    }
   ],
   "source": [
    "frage = \"Wurde die Präzisions GmbH wegen schlechter Qualität oder wegen zu hoher Preise nicht als Hauptlieferant ausgewählt?\" # <<< Hier beliebige Frage stellen!\n",
    "result = qa_chain({\"query\": frage})\n",
    "print(\"Frage:\", frage)\n",
    "print(\"Antwort:\", result[\"result\"])"
   ]
  },
  {
   "cell_type": "markdown",
   "id": "567b3dfb",
   "metadata": {},
   "source": [
    "## 6. Aufgaben/Tipps\n",
    "\n",
    "- Ändere die Chunkgröße und vergleiche die Resultate.\n",
    "- Variiere top_k.\n",
    "- Passe den Prompt kreativ an!\n",
    "- Teste verschiedene eigene Fragen.\n",
    "- Diskutiere mit anderen, welche Konfiguration am besten ist!\n"
   ]
  }
 ],
 "metadata": {
  "kernelspec": {
   "display_name": ".rag",
   "language": "python",
   "name": "python3"
  },
  "language_info": {
   "codemirror_mode": {
    "name": "ipython",
    "version": 3
   },
   "file_extension": ".py",
   "mimetype": "text/x-python",
   "name": "python",
   "nbconvert_exporter": "python",
   "pygments_lexer": "ipython3",
   "version": "3.11.9"
  }
 },
 "nbformat": 4,
 "nbformat_minor": 5
}
