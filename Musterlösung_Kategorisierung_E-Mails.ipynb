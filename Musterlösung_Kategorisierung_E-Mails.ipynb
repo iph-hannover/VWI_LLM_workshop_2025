{
  "cells": [
    {
      "cell_type": "markdown",
      "metadata": {},
      "source": [
        "# Automatische Klassifikation von Support-Tickets (Plotly-Version)\n",
        "\n",
        "In diesem Notebook nutzen wir EML-Dateien aus den Verzeichnissen `data/training_data` und `data/test_data` für Training und Testing.\n",
        "Es werden sowohl Zero-Shot- als auch Few-Shot-Ansätze demonstriert und wir verwenden Plotly, um die DataFrames darzustellen.\n"
      ]
    },
    {
      "cell_type": "markdown",
      "metadata": {},
      "source": [
        "## 1. Installation und Importe\n",
        "\n",
        "Stellt sicher, dass ihr die benötigten Bibliotheken installiert habt (`pip install openai pandas plotly`).\n"
      ]
    },
    {
      "cell_type": "code",
      "execution_count": 2,
      "id": "67ede771",
      "metadata": {},
      "outputs": [],
      "source": [
        "# Bibliotheken importieren\n",
        "import os\n",
        "import glob\n",
        "import pandas as pd\n",
        "from email import policy\n",
        "from email.parser import BytesParser\n",
        "import openai  # Für LLM-Abfragen\n",
        "import plotly.graph_objects as go\n",
        "from dotenv import load_dotenv  # Ergänzt für .env-Unterstützung\n",
        "\n",
        "# .env-Datei laden (API-Key wird als Umgebungsvariable verfügbar)\n",
        "load_dotenv()\n",
        "\n",
        "# Funktion, um DataFrames mit Plotly anzuzeigen\n",
        "def display_df(df: pd.DataFrame, title: str):\n",
        "    fig = go.Figure(data=[go.Table(\n",
        "        header=dict(values=list(df.columns), fill_color='lightgrey', align='left'),\n",
        "        cells=dict(values=[df[col] for col in df.columns], align='left')\n",
        "    )])\n",
        "    fig.update_layout(title=title)\n",
        "    fig.show()\n",
        "\n",
        "# OpenAI API-Key sicher aus Umgebungsvariable lesen\n",
        "api_key = os.getenv(\"OPENAI_API_KEY\")\n",
        "if not api_key:\n",
        "    raise ValueError(\"OPENAI_API_KEY nicht gefunden. Bitte in der .env-Datei setzen.\")\n",
        "client = openai.OpenAI(api_key=api_key)"
      ]
    },
    {
      "cell_type": "markdown",
      "id": "3a6933b3",
      "metadata": {},
      "source": [
        "## 2. Datenverzeichnis und Struktur\n",
        "\n",
        "- Trainingsdaten (EML-Dateien) liegen in `data/training_data`\n",
        "- Testdaten (EML-Dateien) liegen in `data/test_data`\n"
      ]
    },
    {
      "cell_type": "code",
      "execution_count": 3,
      "id": "43f21d9d",
      "metadata": {},
      "outputs": [
        {
          "name": "stdout",
          "output_type": "stream",
          "text": [
            "Trainingsverzeichnis: data/training_data\n",
            "Testverzeichnis: data/test_data\n"
          ]
        }
      ],
      "source": [
        "# Verzeichnisse definieren\n",
        "train_dir = \"data/training_data\"\n",
        "test_dir = \"data/test_data\"\n",
        "\n",
        "# Existenz prüfen\n",
        "if not os.path.isdir(train_dir):\n",
        "    raise FileNotFoundError(f\"Trainingsverzeichnis '{train_dir}' nicht gefunden\")\n",
        "if not os.path.isdir(test_dir):\n",
        "    raise FileNotFoundError(f\"Testverzeichnis '{test_dir}' nicht gefunden\")\n",
        "\n",
        "print(f\"Trainingsverzeichnis: {train_dir}\")\n",
        "print(f\"Testverzeichnis: {test_dir}\")"
      ]
    },
    {
      "cell_type": "markdown",
      "id": "ed29ecd8",
      "metadata": {},
      "source": [
        "## 3. Einlesen der EML-Dateien\n",
        "\n",
        "Wir parsen die EML-Dateien, extrahieren den Body-Text und (bei Trainingsdaten) die Kategorie (aus dem Header `X-Category`).\n"
      ]
    },
    {
      "cell_type": "code",
      "execution_count": 4,
      "id": "d5a85b52",
      "metadata": {},
      "outputs": [
        {
          "data": {
            "application/vnd.plotly.v1+json": {
              "config": {
                "plotlyServerURL": "https://plot.ly"
              },
              "data": [
                {
                  "cells": {
                    "align": "left",
                    "values": [
                      [
                        "Hallo Support-Team,\n\nich versuche seit gestern, das neue Sensormodul an unserem Montageband zu installieren. Leider weicht die Dokumentation von den tatsächlichen Anschlussklemmen ab. In der Anleitung steht, dass Pin 5 für den Erdungskontakt zuständig ist, jedoch habe ich am Modul Pin 6 hier vorgefunden. Außerdem reagiert das Gerät nicht auf die Initialisierungsfolge, die im Handbuch steht.\n\nKönnt ihr mir bitte eine aktualisierte Beschreibung oder ein Diagramm senden, wie der Sensor korrekt angeschlossen wird? Wir stehen kurz vor Produktionsstart und jede Verzögerung verursacht Kosten.\n\nBeste Grüße,\nHerr Schmitz\nFertigungstechnik",
                        "Sehr geehrtes Support-Team,\n\nwir haben vor zwei Tagen das Paket mit dem Sensormodul erhalten, aber leider haben wir ein anderes Modell (Typ B statt Typ A) erhalten. Wir benötigen dringend ein korrektes Ersatzteil. Bitte lassen Sie mich wissen, wie wir das falsche Gerät zurückschicken können.\n\nMit freundlichen Grüßen,\nFrau Braun\nEinkauf",
                        "Liebes Serviceteam,\n\nseit heute Morgen melden unsere Sensoren im Stahlpresswerk dauerhaft den Fehlercode E234. Nach dem Hochfahren lief alles normal, doch nach etwa einer Stunde Produktion blieb die Maschine stehen. In den Logs lesen wir immer wieder denselben Eintrag: \"Error E234: Overcurrent detected\". Eine erste Überprüfung der Stromzufuhr ergab keine Auffälligkeiten. Ich füge Auszüge aus dem Logfile unten an.\n\nLog:\n2025-05-28 08:15:23 - INFO - Sensor initialisiert\n2025-05-28 09:05:10 - WARN - Spannungsspitze erkannt\n2025-05-28 09:05:11 - ERROR - Error E234: Overcurrent detected\n2025-05-28 09:05:12 - INFO - Sicherheitsabschaltung\n\nBitte gebt mir dringend Hinweise, wie wir das Problem beheben können, da die Produktion stillsteht.\n\nDanke und beste Grüße,\nFrau Müller\nAnlagenbetrieb",
                        "Sehr geehrtes Support-Team,\n\nwir haben festgestellt, dass unser Temperatursensor im Ofenbereich seit dem letzten Wartungsintervall Abweichungen von bis zu ±2°C zeigt. Die eingebauten Kalibrierungsprotokolle durchlaufen keine Abweichungskorrektur. Wir benötigen eine präzise Kalibrierungsanleitung oder ein Kalibrierungstool. Eventuell muss der Sensor physisch ausgetauscht werden.\n\nKönnt ihr mir bitte die aktuellen Kalibrierdaten und das Vorgehen zur Neukalibrierung per Fernwartung schicken? Idealerweise bis Ende der Woche, damit wir unsere Chargenplanung nicht gefährden.\n\nMit freundlichen Grüßen,\nHerr Becker\nQualitätssicherung",
                        "Hallo Support,\n\nich bekomme die neuen Sensoren nicht in unsere SCADA-Umgebung eingebunden. Die Installation\nscheint nicht wie angegeben zu funktionieren. Der Datenfluss bleibt konstant bei 0 Bytes/s, obwohl die Verkabelung nach Schema angebracht scheint. Kann mich bitte jemand unter 0123-456789 zurückrufen, damit wir die Netzwerkparameter gemeinsam prüfen?\n\nVielen Dank,\nFrau Wagner\nIT-Abteilung",
                        "Guten Tag,\n\nnachdem wir letzte Woche das letzte Software-Release der SPS eingespielt haben, lief alles super. Seit heute verhält sich der Sensor sehr instabil. Laut Release Notes sollte die neue Firmware V2.1.3 das Problem beheben. Leider finde ich keine Download-Links in Ihrem Portal. Bitte stellen Sie uns die erste stabile Version des Firmware-Downloads zur Verfügung und eine kurze Anleitung, wie wir die bestehende Version (V2.0.9) aktualisieren.\n\nBeste Grüße,\nHerr Fischer\nAutomatisierungstechnik",
                        "Hallo,\n\nwenn ich das System starte, erhalte ich sofort die Fehlermeldung: \"Parameter X ungültig\". Ich habe die Konfigurationsdateien geprüft; alle Parameter sind, soweit ich sehen kann, mit den Vorgaben aus dem Handbuch übereinstimmend. Im Anhang sende ich meine config.ini.\n\nKönnen Sie mir sagen, welcher Eintrag genau problematisch ist? Ich habe bereits versucht, die Parameter manuell zu ändern, ohne Erfolg.\n\nDanke,\nFrau Lange\nIT-Support",
                        "Sehr geehrte Damen und Herren,\n\nunser Sensor ist nach dem Transport mit der Post angekommen und zeigt während der Installation plötzlich Abweichungen von bis zu ±5% an. Wir vermuten, dass das Gerät beim Versand verstellt wurde. Benötigen Sie das Gerät zurück oder können wir eine Fernkalibrierung durchführen? Welche Schritte schlagen Sie vor?\n\nFreundliche Grüße,\nHerr Koch\nLogistik",
                        "Liebes Serviceteam,\n\nunser Produktionssensor driftet seit gestern um mehr als 10 Einheiten. Wir haben bereits manuell nachjustiert, aber das reicht nicht mehr aus. Wir benötigen dringend eine Wartung oder einen Austausch, da die nächste Charge noch heute gestartet werden soll.\n\nVielen Dank,\nFrau Weber\nProduktionsleitung",
                        "Hallo,\n\nich stehe vor einer Konfiguration des Sensors in unserer neuen Verpackungslinie und bin unsicher, welche Parameter für die Auslösung am besten geeignet sind. Könnt ihr mich bitte kurzfristig zurückrufen? Meine Nummer: 0987-654321.\n\nDanke und Grüße,\nHerr Neumann\nInbetriebnahme",
                        "Hallo Support,\n\nwir haben Probleme, das neue Ultraschallsensormodul an unsere Steuerung anzubinden. Der Anschlussplan in der Anleitung unterscheidet sich von dem auf dem PCB gestanzten Layout. Pin 3 scheint nicht korrekt beschriftet zu sein. Ohne genaue Anleitung kommt es aktuell zu Fehlmessungen.\n\nBitte sendet uns ein detailliertes Schaltbild.\n\nViele Grüße,\nHerr Braun\nInbetriebnahme",
                        "Sehr geehrtes Support-Team,\n\nwir haben gestern ein Sensorset vom Typ C erhalten, obwohl wir Typ A bestellt hatten. Wir benötigen dringend Typ A, da der Auftrag heute ausgeführt werden muss. Bitte informieren Sie uns über das Rücksendeverfahren und den Versand des korrekten Typs.\n\nFreundliche Grüße,\nFrau Schulz\nEinkauf",
                        "Liebes Serviceteam,\n\nheute wurde bei unserem Temperatursensor im Ofenbereich wiederholt der Fehler F402 („Overheat detected“) ausgegeben, obwohl die Kühlung ordnungsgemäß arbeitet. Wir haben den Luftstrom und die Verkabelung geprüft, aber das Problem tritt immer wieder auf. Ein ähnlicher Vorfall führte letzten Monat zu einem Anlagenstillstand.\n\nWir benötigen dringend Ihre Unterstützung bei der Fehlerdiagnose.\n\nGruß,\nFrau Meier\nProduktion",
                        "Sehr geehrtes Support-Team,\n\nunser Drucksensor in der Verpackungslinie driftet aktuell um mehr als ±3%. Die automatische Selbstkalibrierung scheint fehlerhaft zu arbeiten. Wir haben bereits die Kalibrierungsroutine manuell durchgeführt, jedoch ohne Erfolg. In der CSV-Datei im Anhang sehen Sie die aufgezeichneten Messwerte und Soll-Ist-Abweichungen.\n\nBitte teilen Sie uns die korrekten Kalibrierungsschritte mit.\n\nVielen Dank,\nHerr Weber\nQualitätssicherung",
                        "Hallo Support,\n\nwir möchten die Modbus-Parameter für das Sensormodul ändern, kommen aber nicht weiter. Unser IT-Team benötigt Rücksprache, um das Registermapping korrekt zu setzen. Bitte rufen Sie mich unter 0151-12345678 zurück, damit wir die Details besprechen können.\n\nDanke,\nFrau Fischer\nIT-Abteilung",
                        "Guten Tag,\n\nnachdem wir heute das Firmware-Update auf Version 3.0 durchgeführt haben, stürzt unser Sensor nach ca. 10 Minuten ab und startet neu. Im Display erscheint „Fatal Error 0x09B“. Die vorherige Version 2.9.1 lief stabil. Wir benötigen die vorherige Firmware oder eine Fehleranalyse.\n\nFreundliche Grüße,\nHerr Klein\nAutomatisierung",
                        "Hallo Support,\n\nbeim Hochfahren der Anlage erscheint direkt: \"Konfigurationsparameter X ungültig\". Wir haben den Parameterbereich im Handbuch nachgeschlagen, aber finden keinen Hinweis auf erlaubte Werte für X. Wir senden Ihnen unsere config.yaml im Anhang.\n\nBitte helfen Sie uns, den korrekten Parameterbereich zu bestimmen.\n\nGruß,\nFrau Schneider\nProzesssteuerung",
                        "Sehr geehrte Damen und Herren,\n\nunser Sensormodul kam heute mit sichtbaren Kratzern an und zeigt im Testbetrieb keine Werte an. Das Display bleibt leer. Wir vermuten, dass beim Transport etwas beschädigt wurde. Bitte teilen Sie uns das Rücksendeverfahren mit und ob eine Neuinstallation erforderlich ist.\n\nMit freundlichen Grüßen,\nHerr Hoffmann\nLogistik",
                        "Liebes Serviceteam,\n\nunser Produktionssensor driftet seit gestern um über 15 Einheiten, und wir müssen heute eine neue Charge starten. Die manuelle Justierung reicht nicht mehr aus. Bitte schicken Sie uns umgehend einen Techniker oder ein Austauschgerät.\n\nDanke und Grüße,\nFrau Bauer\nProduktionsleitung",
                        "Hallo,\n\nwir haben Schwierigkeiten, unseren Sensor in unser SCADA-System einzubinden. Die Datenübertragung bricht immer wieder ab. Wir benötigen eine telefonische Beratung, um die Netzwerk- und Protokolleinstellungen zu überprüfen. Sie erreichen mich unter 0170-9876543.\n\nDanke,\nHerr Richter\nIT-Abteilung"
                      ],
                      [
                        "Installation",
                        "Lieferung",
                        "Störung",
                        "Störung",
                        "Installation",
                        "Installation",
                        "Störung",
                        "Installation",
                        "Störung",
                        "Installation",
                        "Installation",
                        "Lieferung",
                        "Störung",
                        "Störung",
                        "Installation",
                        "Störung",
                        "Störung",
                        "Lieferung",
                        "Störung",
                        "Installation"
                      ]
                    ]
                  },
                  "header": {
                    "align": "left",
                    "fill": {
                      "color": "lightgrey"
                    },
                    "values": [
                      "text",
                      "category"
                    ]
                  },
                  "type": "table"
                }
              ],
              "layout": {
                "template": {
                  "data": {
                    "bar": [
                      {
                        "error_x": {
                          "color": "#2a3f5f"
                        },
                        "error_y": {
                          "color": "#2a3f5f"
                        },
                        "marker": {
                          "line": {
                            "color": "#E5ECF6",
                            "width": 0.5
                          },
                          "pattern": {
                            "fillmode": "overlay",
                            "size": 10,
                            "solidity": 0.2
                          }
                        },
                        "type": "bar"
                      }
                    ],
                    "barpolar": [
                      {
                        "marker": {
                          "line": {
                            "color": "#E5ECF6",
                            "width": 0.5
                          },
                          "pattern": {
                            "fillmode": "overlay",
                            "size": 10,
                            "solidity": 0.2
                          }
                        },
                        "type": "barpolar"
                      }
                    ],
                    "carpet": [
                      {
                        "aaxis": {
                          "endlinecolor": "#2a3f5f",
                          "gridcolor": "white",
                          "linecolor": "white",
                          "minorgridcolor": "white",
                          "startlinecolor": "#2a3f5f"
                        },
                        "baxis": {
                          "endlinecolor": "#2a3f5f",
                          "gridcolor": "white",
                          "linecolor": "white",
                          "minorgridcolor": "white",
                          "startlinecolor": "#2a3f5f"
                        },
                        "type": "carpet"
                      }
                    ],
                    "choropleth": [
                      {
                        "colorbar": {
                          "outlinewidth": 0,
                          "ticks": ""
                        },
                        "type": "choropleth"
                      }
                    ],
                    "contour": [
                      {
                        "colorbar": {
                          "outlinewidth": 0,
                          "ticks": ""
                        },
                        "colorscale": [
                          [
                            0,
                            "#0d0887"
                          ],
                          [
                            0.1111111111111111,
                            "#46039f"
                          ],
                          [
                            0.2222222222222222,
                            "#7201a8"
                          ],
                          [
                            0.3333333333333333,
                            "#9c179e"
                          ],
                          [
                            0.4444444444444444,
                            "#bd3786"
                          ],
                          [
                            0.5555555555555556,
                            "#d8576b"
                          ],
                          [
                            0.6666666666666666,
                            "#ed7953"
                          ],
                          [
                            0.7777777777777778,
                            "#fb9f3a"
                          ],
                          [
                            0.8888888888888888,
                            "#fdca26"
                          ],
                          [
                            1,
                            "#f0f921"
                          ]
                        ],
                        "type": "contour"
                      }
                    ],
                    "contourcarpet": [
                      {
                        "colorbar": {
                          "outlinewidth": 0,
                          "ticks": ""
                        },
                        "type": "contourcarpet"
                      }
                    ],
                    "heatmap": [
                      {
                        "colorbar": {
                          "outlinewidth": 0,
                          "ticks": ""
                        },
                        "colorscale": [
                          [
                            0,
                            "#0d0887"
                          ],
                          [
                            0.1111111111111111,
                            "#46039f"
                          ],
                          [
                            0.2222222222222222,
                            "#7201a8"
                          ],
                          [
                            0.3333333333333333,
                            "#9c179e"
                          ],
                          [
                            0.4444444444444444,
                            "#bd3786"
                          ],
                          [
                            0.5555555555555556,
                            "#d8576b"
                          ],
                          [
                            0.6666666666666666,
                            "#ed7953"
                          ],
                          [
                            0.7777777777777778,
                            "#fb9f3a"
                          ],
                          [
                            0.8888888888888888,
                            "#fdca26"
                          ],
                          [
                            1,
                            "#f0f921"
                          ]
                        ],
                        "type": "heatmap"
                      }
                    ],
                    "histogram": [
                      {
                        "marker": {
                          "pattern": {
                            "fillmode": "overlay",
                            "size": 10,
                            "solidity": 0.2
                          }
                        },
                        "type": "histogram"
                      }
                    ],
                    "histogram2d": [
                      {
                        "colorbar": {
                          "outlinewidth": 0,
                          "ticks": ""
                        },
                        "colorscale": [
                          [
                            0,
                            "#0d0887"
                          ],
                          [
                            0.1111111111111111,
                            "#46039f"
                          ],
                          [
                            0.2222222222222222,
                            "#7201a8"
                          ],
                          [
                            0.3333333333333333,
                            "#9c179e"
                          ],
                          [
                            0.4444444444444444,
                            "#bd3786"
                          ],
                          [
                            0.5555555555555556,
                            "#d8576b"
                          ],
                          [
                            0.6666666666666666,
                            "#ed7953"
                          ],
                          [
                            0.7777777777777778,
                            "#fb9f3a"
                          ],
                          [
                            0.8888888888888888,
                            "#fdca26"
                          ],
                          [
                            1,
                            "#f0f921"
                          ]
                        ],
                        "type": "histogram2d"
                      }
                    ],
                    "histogram2dcontour": [
                      {
                        "colorbar": {
                          "outlinewidth": 0,
                          "ticks": ""
                        },
                        "colorscale": [
                          [
                            0,
                            "#0d0887"
                          ],
                          [
                            0.1111111111111111,
                            "#46039f"
                          ],
                          [
                            0.2222222222222222,
                            "#7201a8"
                          ],
                          [
                            0.3333333333333333,
                            "#9c179e"
                          ],
                          [
                            0.4444444444444444,
                            "#bd3786"
                          ],
                          [
                            0.5555555555555556,
                            "#d8576b"
                          ],
                          [
                            0.6666666666666666,
                            "#ed7953"
                          ],
                          [
                            0.7777777777777778,
                            "#fb9f3a"
                          ],
                          [
                            0.8888888888888888,
                            "#fdca26"
                          ],
                          [
                            1,
                            "#f0f921"
                          ]
                        ],
                        "type": "histogram2dcontour"
                      }
                    ],
                    "mesh3d": [
                      {
                        "colorbar": {
                          "outlinewidth": 0,
                          "ticks": ""
                        },
                        "type": "mesh3d"
                      }
                    ],
                    "parcoords": [
                      {
                        "line": {
                          "colorbar": {
                            "outlinewidth": 0,
                            "ticks": ""
                          }
                        },
                        "type": "parcoords"
                      }
                    ],
                    "pie": [
                      {
                        "automargin": true,
                        "type": "pie"
                      }
                    ],
                    "scatter": [
                      {
                        "fillpattern": {
                          "fillmode": "overlay",
                          "size": 10,
                          "solidity": 0.2
                        },
                        "type": "scatter"
                      }
                    ],
                    "scatter3d": [
                      {
                        "line": {
                          "colorbar": {
                            "outlinewidth": 0,
                            "ticks": ""
                          }
                        },
                        "marker": {
                          "colorbar": {
                            "outlinewidth": 0,
                            "ticks": ""
                          }
                        },
                        "type": "scatter3d"
                      }
                    ],
                    "scattercarpet": [
                      {
                        "marker": {
                          "colorbar": {
                            "outlinewidth": 0,
                            "ticks": ""
                          }
                        },
                        "type": "scattercarpet"
                      }
                    ],
                    "scattergeo": [
                      {
                        "marker": {
                          "colorbar": {
                            "outlinewidth": 0,
                            "ticks": ""
                          }
                        },
                        "type": "scattergeo"
                      }
                    ],
                    "scattergl": [
                      {
                        "marker": {
                          "colorbar": {
                            "outlinewidth": 0,
                            "ticks": ""
                          }
                        },
                        "type": "scattergl"
                      }
                    ],
                    "scattermap": [
                      {
                        "marker": {
                          "colorbar": {
                            "outlinewidth": 0,
                            "ticks": ""
                          }
                        },
                        "type": "scattermap"
                      }
                    ],
                    "scattermapbox": [
                      {
                        "marker": {
                          "colorbar": {
                            "outlinewidth": 0,
                            "ticks": ""
                          }
                        },
                        "type": "scattermapbox"
                      }
                    ],
                    "scatterpolar": [
                      {
                        "marker": {
                          "colorbar": {
                            "outlinewidth": 0,
                            "ticks": ""
                          }
                        },
                        "type": "scatterpolar"
                      }
                    ],
                    "scatterpolargl": [
                      {
                        "marker": {
                          "colorbar": {
                            "outlinewidth": 0,
                            "ticks": ""
                          }
                        },
                        "type": "scatterpolargl"
                      }
                    ],
                    "scatterternary": [
                      {
                        "marker": {
                          "colorbar": {
                            "outlinewidth": 0,
                            "ticks": ""
                          }
                        },
                        "type": "scatterternary"
                      }
                    ],
                    "surface": [
                      {
                        "colorbar": {
                          "outlinewidth": 0,
                          "ticks": ""
                        },
                        "colorscale": [
                          [
                            0,
                            "#0d0887"
                          ],
                          [
                            0.1111111111111111,
                            "#46039f"
                          ],
                          [
                            0.2222222222222222,
                            "#7201a8"
                          ],
                          [
                            0.3333333333333333,
                            "#9c179e"
                          ],
                          [
                            0.4444444444444444,
                            "#bd3786"
                          ],
                          [
                            0.5555555555555556,
                            "#d8576b"
                          ],
                          [
                            0.6666666666666666,
                            "#ed7953"
                          ],
                          [
                            0.7777777777777778,
                            "#fb9f3a"
                          ],
                          [
                            0.8888888888888888,
                            "#fdca26"
                          ],
                          [
                            1,
                            "#f0f921"
                          ]
                        ],
                        "type": "surface"
                      }
                    ],
                    "table": [
                      {
                        "cells": {
                          "fill": {
                            "color": "#EBF0F8"
                          },
                          "line": {
                            "color": "white"
                          }
                        },
                        "header": {
                          "fill": {
                            "color": "#C8D4E3"
                          },
                          "line": {
                            "color": "white"
                          }
                        },
                        "type": "table"
                      }
                    ]
                  },
                  "layout": {
                    "annotationdefaults": {
                      "arrowcolor": "#2a3f5f",
                      "arrowhead": 0,
                      "arrowwidth": 1
                    },
                    "autotypenumbers": "strict",
                    "coloraxis": {
                      "colorbar": {
                        "outlinewidth": 0,
                        "ticks": ""
                      }
                    },
                    "colorscale": {
                      "diverging": [
                        [
                          0,
                          "#8e0152"
                        ],
                        [
                          0.1,
                          "#c51b7d"
                        ],
                        [
                          0.2,
                          "#de77ae"
                        ],
                        [
                          0.3,
                          "#f1b6da"
                        ],
                        [
                          0.4,
                          "#fde0ef"
                        ],
                        [
                          0.5,
                          "#f7f7f7"
                        ],
                        [
                          0.6,
                          "#e6f5d0"
                        ],
                        [
                          0.7,
                          "#b8e186"
                        ],
                        [
                          0.8,
                          "#7fbc41"
                        ],
                        [
                          0.9,
                          "#4d9221"
                        ],
                        [
                          1,
                          "#276419"
                        ]
                      ],
                      "sequential": [
                        [
                          0,
                          "#0d0887"
                        ],
                        [
                          0.1111111111111111,
                          "#46039f"
                        ],
                        [
                          0.2222222222222222,
                          "#7201a8"
                        ],
                        [
                          0.3333333333333333,
                          "#9c179e"
                        ],
                        [
                          0.4444444444444444,
                          "#bd3786"
                        ],
                        [
                          0.5555555555555556,
                          "#d8576b"
                        ],
                        [
                          0.6666666666666666,
                          "#ed7953"
                        ],
                        [
                          0.7777777777777778,
                          "#fb9f3a"
                        ],
                        [
                          0.8888888888888888,
                          "#fdca26"
                        ],
                        [
                          1,
                          "#f0f921"
                        ]
                      ],
                      "sequentialminus": [
                        [
                          0,
                          "#0d0887"
                        ],
                        [
                          0.1111111111111111,
                          "#46039f"
                        ],
                        [
                          0.2222222222222222,
                          "#7201a8"
                        ],
                        [
                          0.3333333333333333,
                          "#9c179e"
                        ],
                        [
                          0.4444444444444444,
                          "#bd3786"
                        ],
                        [
                          0.5555555555555556,
                          "#d8576b"
                        ],
                        [
                          0.6666666666666666,
                          "#ed7953"
                        ],
                        [
                          0.7777777777777778,
                          "#fb9f3a"
                        ],
                        [
                          0.8888888888888888,
                          "#fdca26"
                        ],
                        [
                          1,
                          "#f0f921"
                        ]
                      ]
                    },
                    "colorway": [
                      "#636efa",
                      "#EF553B",
                      "#00cc96",
                      "#ab63fa",
                      "#FFA15A",
                      "#19d3f3",
                      "#FF6692",
                      "#B6E880",
                      "#FF97FF",
                      "#FECB52"
                    ],
                    "font": {
                      "color": "#2a3f5f"
                    },
                    "geo": {
                      "bgcolor": "white",
                      "lakecolor": "white",
                      "landcolor": "#E5ECF6",
                      "showlakes": true,
                      "showland": true,
                      "subunitcolor": "white"
                    },
                    "hoverlabel": {
                      "align": "left"
                    },
                    "hovermode": "closest",
                    "mapbox": {
                      "style": "light"
                    },
                    "paper_bgcolor": "white",
                    "plot_bgcolor": "#E5ECF6",
                    "polar": {
                      "angularaxis": {
                        "gridcolor": "white",
                        "linecolor": "white",
                        "ticks": ""
                      },
                      "bgcolor": "#E5ECF6",
                      "radialaxis": {
                        "gridcolor": "white",
                        "linecolor": "white",
                        "ticks": ""
                      }
                    },
                    "scene": {
                      "xaxis": {
                        "backgroundcolor": "#E5ECF6",
                        "gridcolor": "white",
                        "gridwidth": 2,
                        "linecolor": "white",
                        "showbackground": true,
                        "ticks": "",
                        "zerolinecolor": "white"
                      },
                      "yaxis": {
                        "backgroundcolor": "#E5ECF6",
                        "gridcolor": "white",
                        "gridwidth": 2,
                        "linecolor": "white",
                        "showbackground": true,
                        "ticks": "",
                        "zerolinecolor": "white"
                      },
                      "zaxis": {
                        "backgroundcolor": "#E5ECF6",
                        "gridcolor": "white",
                        "gridwidth": 2,
                        "linecolor": "white",
                        "showbackground": true,
                        "ticks": "",
                        "zerolinecolor": "white"
                      }
                    },
                    "shapedefaults": {
                      "line": {
                        "color": "#2a3f5f"
                      }
                    },
                    "ternary": {
                      "aaxis": {
                        "gridcolor": "white",
                        "linecolor": "white",
                        "ticks": ""
                      },
                      "baxis": {
                        "gridcolor": "white",
                        "linecolor": "white",
                        "ticks": ""
                      },
                      "bgcolor": "#E5ECF6",
                      "caxis": {
                        "gridcolor": "white",
                        "linecolor": "white",
                        "ticks": ""
                      }
                    },
                    "title": {
                      "x": 0.05
                    },
                    "xaxis": {
                      "automargin": true,
                      "gridcolor": "white",
                      "linecolor": "white",
                      "ticks": "",
                      "title": {
                        "standoff": 15
                      },
                      "zerolinecolor": "white",
                      "zerolinewidth": 2
                    },
                    "yaxis": {
                      "automargin": true,
                      "gridcolor": "white",
                      "linecolor": "white",
                      "ticks": "",
                      "title": {
                        "standoff": 15
                      },
                      "zerolinecolor": "white",
                      "zerolinewidth": 2
                    }
                  }
                },
                "title": {
                  "text": "Trainingsdaten (Text + Kategorie)"
                }
              }
            }
          },
          "metadata": {},
          "output_type": "display_data"
        },
        {
          "data": {
            "application/vnd.plotly.v1+json": {
              "config": {
                "plotlyServerURL": "https://plot.ly"
              },
              "data": [
                {
                  "cells": {
                    "align": "left",
                    "values": [
                      [
                        "Hallo Support,\n\nnach der heutigen Reinigung unserer Sensoren zeigen diese falsche Temperaturwerte an. Ich vermute, dass Feuchtigkeit ins Innere gelangt ist. Können Sie uns prüfen lassen, ob eine Wartung notwendig ist?\n\nDanke,\nHerr Meier\nWartung",
                        "Liebes Team,\n\nbei unserer Drucksensor-Einheit tritt seit gestern der Fehler E512 (Kommunikation abgebrochen) auf. Die Verkabelung haben wir geprüft, die SPS meldet aber weiterhin Ausfall. Bitte um dringende Analyse.\n\nGrüße,\nFrau Wagner\nAnlagenbetrieb",
                        "Sehr geehrte Damen und Herren,\n\nder neue Temperatursensor ist bei uns eingetroffen. Wir haben ihn vor \nInbetriebnahme kalibriert. Können Sie uns die Kalibrierungsprozedur zusenden, wir finden die Anleitung leider nicht?\n\nMit freundlichen Grüßen,\nHerr Neumann\nLogistik",
                        "Hallo Support,\n\nunser Sensor verbindet sich nicht mit dem Ethernet-Netzwerk. Wir benötigen eine telefonische Unterstützung, um IP-Einstellungen und Subnetzkonfiguration zu prüfen. Rückruf unter 0160-1112223 erbeten.\n\nDanke,\nFrau Klein\nIT-Abteilung",
                        "Guten Tag,\n\nwir haben bei Ihnen das Sensormodul XL-AB23 bestellt. Sie hatten uns den 09.02.\nals Liefertermin bestätigt. Bis heute 08.02. haben wir nicht von Ihnen gehört.\nIch bitte Sie um eine schnelle Rückmeldung.\n\nVielen Dank,\nHerr Fischer\nAutomatisierung"
                      ],
                      [
                        "Störung",
                        "Störung",
                        "Installation",
                        "Störung",
                        "Lieferung"
                      ]
                    ]
                  },
                  "header": {
                    "align": "left",
                    "fill": {
                      "color": "lightgrey"
                    },
                    "values": [
                      "text",
                      "category"
                    ]
                  },
                  "type": "table"
                }
              ],
              "layout": {
                "template": {
                  "data": {
                    "bar": [
                      {
                        "error_x": {
                          "color": "#2a3f5f"
                        },
                        "error_y": {
                          "color": "#2a3f5f"
                        },
                        "marker": {
                          "line": {
                            "color": "#E5ECF6",
                            "width": 0.5
                          },
                          "pattern": {
                            "fillmode": "overlay",
                            "size": 10,
                            "solidity": 0.2
                          }
                        },
                        "type": "bar"
                      }
                    ],
                    "barpolar": [
                      {
                        "marker": {
                          "line": {
                            "color": "#E5ECF6",
                            "width": 0.5
                          },
                          "pattern": {
                            "fillmode": "overlay",
                            "size": 10,
                            "solidity": 0.2
                          }
                        },
                        "type": "barpolar"
                      }
                    ],
                    "carpet": [
                      {
                        "aaxis": {
                          "endlinecolor": "#2a3f5f",
                          "gridcolor": "white",
                          "linecolor": "white",
                          "minorgridcolor": "white",
                          "startlinecolor": "#2a3f5f"
                        },
                        "baxis": {
                          "endlinecolor": "#2a3f5f",
                          "gridcolor": "white",
                          "linecolor": "white",
                          "minorgridcolor": "white",
                          "startlinecolor": "#2a3f5f"
                        },
                        "type": "carpet"
                      }
                    ],
                    "choropleth": [
                      {
                        "colorbar": {
                          "outlinewidth": 0,
                          "ticks": ""
                        },
                        "type": "choropleth"
                      }
                    ],
                    "contour": [
                      {
                        "colorbar": {
                          "outlinewidth": 0,
                          "ticks": ""
                        },
                        "colorscale": [
                          [
                            0,
                            "#0d0887"
                          ],
                          [
                            0.1111111111111111,
                            "#46039f"
                          ],
                          [
                            0.2222222222222222,
                            "#7201a8"
                          ],
                          [
                            0.3333333333333333,
                            "#9c179e"
                          ],
                          [
                            0.4444444444444444,
                            "#bd3786"
                          ],
                          [
                            0.5555555555555556,
                            "#d8576b"
                          ],
                          [
                            0.6666666666666666,
                            "#ed7953"
                          ],
                          [
                            0.7777777777777778,
                            "#fb9f3a"
                          ],
                          [
                            0.8888888888888888,
                            "#fdca26"
                          ],
                          [
                            1,
                            "#f0f921"
                          ]
                        ],
                        "type": "contour"
                      }
                    ],
                    "contourcarpet": [
                      {
                        "colorbar": {
                          "outlinewidth": 0,
                          "ticks": ""
                        },
                        "type": "contourcarpet"
                      }
                    ],
                    "heatmap": [
                      {
                        "colorbar": {
                          "outlinewidth": 0,
                          "ticks": ""
                        },
                        "colorscale": [
                          [
                            0,
                            "#0d0887"
                          ],
                          [
                            0.1111111111111111,
                            "#46039f"
                          ],
                          [
                            0.2222222222222222,
                            "#7201a8"
                          ],
                          [
                            0.3333333333333333,
                            "#9c179e"
                          ],
                          [
                            0.4444444444444444,
                            "#bd3786"
                          ],
                          [
                            0.5555555555555556,
                            "#d8576b"
                          ],
                          [
                            0.6666666666666666,
                            "#ed7953"
                          ],
                          [
                            0.7777777777777778,
                            "#fb9f3a"
                          ],
                          [
                            0.8888888888888888,
                            "#fdca26"
                          ],
                          [
                            1,
                            "#f0f921"
                          ]
                        ],
                        "type": "heatmap"
                      }
                    ],
                    "histogram": [
                      {
                        "marker": {
                          "pattern": {
                            "fillmode": "overlay",
                            "size": 10,
                            "solidity": 0.2
                          }
                        },
                        "type": "histogram"
                      }
                    ],
                    "histogram2d": [
                      {
                        "colorbar": {
                          "outlinewidth": 0,
                          "ticks": ""
                        },
                        "colorscale": [
                          [
                            0,
                            "#0d0887"
                          ],
                          [
                            0.1111111111111111,
                            "#46039f"
                          ],
                          [
                            0.2222222222222222,
                            "#7201a8"
                          ],
                          [
                            0.3333333333333333,
                            "#9c179e"
                          ],
                          [
                            0.4444444444444444,
                            "#bd3786"
                          ],
                          [
                            0.5555555555555556,
                            "#d8576b"
                          ],
                          [
                            0.6666666666666666,
                            "#ed7953"
                          ],
                          [
                            0.7777777777777778,
                            "#fb9f3a"
                          ],
                          [
                            0.8888888888888888,
                            "#fdca26"
                          ],
                          [
                            1,
                            "#f0f921"
                          ]
                        ],
                        "type": "histogram2d"
                      }
                    ],
                    "histogram2dcontour": [
                      {
                        "colorbar": {
                          "outlinewidth": 0,
                          "ticks": ""
                        },
                        "colorscale": [
                          [
                            0,
                            "#0d0887"
                          ],
                          [
                            0.1111111111111111,
                            "#46039f"
                          ],
                          [
                            0.2222222222222222,
                            "#7201a8"
                          ],
                          [
                            0.3333333333333333,
                            "#9c179e"
                          ],
                          [
                            0.4444444444444444,
                            "#bd3786"
                          ],
                          [
                            0.5555555555555556,
                            "#d8576b"
                          ],
                          [
                            0.6666666666666666,
                            "#ed7953"
                          ],
                          [
                            0.7777777777777778,
                            "#fb9f3a"
                          ],
                          [
                            0.8888888888888888,
                            "#fdca26"
                          ],
                          [
                            1,
                            "#f0f921"
                          ]
                        ],
                        "type": "histogram2dcontour"
                      }
                    ],
                    "mesh3d": [
                      {
                        "colorbar": {
                          "outlinewidth": 0,
                          "ticks": ""
                        },
                        "type": "mesh3d"
                      }
                    ],
                    "parcoords": [
                      {
                        "line": {
                          "colorbar": {
                            "outlinewidth": 0,
                            "ticks": ""
                          }
                        },
                        "type": "parcoords"
                      }
                    ],
                    "pie": [
                      {
                        "automargin": true,
                        "type": "pie"
                      }
                    ],
                    "scatter": [
                      {
                        "fillpattern": {
                          "fillmode": "overlay",
                          "size": 10,
                          "solidity": 0.2
                        },
                        "type": "scatter"
                      }
                    ],
                    "scatter3d": [
                      {
                        "line": {
                          "colorbar": {
                            "outlinewidth": 0,
                            "ticks": ""
                          }
                        },
                        "marker": {
                          "colorbar": {
                            "outlinewidth": 0,
                            "ticks": ""
                          }
                        },
                        "type": "scatter3d"
                      }
                    ],
                    "scattercarpet": [
                      {
                        "marker": {
                          "colorbar": {
                            "outlinewidth": 0,
                            "ticks": ""
                          }
                        },
                        "type": "scattercarpet"
                      }
                    ],
                    "scattergeo": [
                      {
                        "marker": {
                          "colorbar": {
                            "outlinewidth": 0,
                            "ticks": ""
                          }
                        },
                        "type": "scattergeo"
                      }
                    ],
                    "scattergl": [
                      {
                        "marker": {
                          "colorbar": {
                            "outlinewidth": 0,
                            "ticks": ""
                          }
                        },
                        "type": "scattergl"
                      }
                    ],
                    "scattermap": [
                      {
                        "marker": {
                          "colorbar": {
                            "outlinewidth": 0,
                            "ticks": ""
                          }
                        },
                        "type": "scattermap"
                      }
                    ],
                    "scattermapbox": [
                      {
                        "marker": {
                          "colorbar": {
                            "outlinewidth": 0,
                            "ticks": ""
                          }
                        },
                        "type": "scattermapbox"
                      }
                    ],
                    "scatterpolar": [
                      {
                        "marker": {
                          "colorbar": {
                            "outlinewidth": 0,
                            "ticks": ""
                          }
                        },
                        "type": "scatterpolar"
                      }
                    ],
                    "scatterpolargl": [
                      {
                        "marker": {
                          "colorbar": {
                            "outlinewidth": 0,
                            "ticks": ""
                          }
                        },
                        "type": "scatterpolargl"
                      }
                    ],
                    "scatterternary": [
                      {
                        "marker": {
                          "colorbar": {
                            "outlinewidth": 0,
                            "ticks": ""
                          }
                        },
                        "type": "scatterternary"
                      }
                    ],
                    "surface": [
                      {
                        "colorbar": {
                          "outlinewidth": 0,
                          "ticks": ""
                        },
                        "colorscale": [
                          [
                            0,
                            "#0d0887"
                          ],
                          [
                            0.1111111111111111,
                            "#46039f"
                          ],
                          [
                            0.2222222222222222,
                            "#7201a8"
                          ],
                          [
                            0.3333333333333333,
                            "#9c179e"
                          ],
                          [
                            0.4444444444444444,
                            "#bd3786"
                          ],
                          [
                            0.5555555555555556,
                            "#d8576b"
                          ],
                          [
                            0.6666666666666666,
                            "#ed7953"
                          ],
                          [
                            0.7777777777777778,
                            "#fb9f3a"
                          ],
                          [
                            0.8888888888888888,
                            "#fdca26"
                          ],
                          [
                            1,
                            "#f0f921"
                          ]
                        ],
                        "type": "surface"
                      }
                    ],
                    "table": [
                      {
                        "cells": {
                          "fill": {
                            "color": "#EBF0F8"
                          },
                          "line": {
                            "color": "white"
                          }
                        },
                        "header": {
                          "fill": {
                            "color": "#C8D4E3"
                          },
                          "line": {
                            "color": "white"
                          }
                        },
                        "type": "table"
                      }
                    ]
                  },
                  "layout": {
                    "annotationdefaults": {
                      "arrowcolor": "#2a3f5f",
                      "arrowhead": 0,
                      "arrowwidth": 1
                    },
                    "autotypenumbers": "strict",
                    "coloraxis": {
                      "colorbar": {
                        "outlinewidth": 0,
                        "ticks": ""
                      }
                    },
                    "colorscale": {
                      "diverging": [
                        [
                          0,
                          "#8e0152"
                        ],
                        [
                          0.1,
                          "#c51b7d"
                        ],
                        [
                          0.2,
                          "#de77ae"
                        ],
                        [
                          0.3,
                          "#f1b6da"
                        ],
                        [
                          0.4,
                          "#fde0ef"
                        ],
                        [
                          0.5,
                          "#f7f7f7"
                        ],
                        [
                          0.6,
                          "#e6f5d0"
                        ],
                        [
                          0.7,
                          "#b8e186"
                        ],
                        [
                          0.8,
                          "#7fbc41"
                        ],
                        [
                          0.9,
                          "#4d9221"
                        ],
                        [
                          1,
                          "#276419"
                        ]
                      ],
                      "sequential": [
                        [
                          0,
                          "#0d0887"
                        ],
                        [
                          0.1111111111111111,
                          "#46039f"
                        ],
                        [
                          0.2222222222222222,
                          "#7201a8"
                        ],
                        [
                          0.3333333333333333,
                          "#9c179e"
                        ],
                        [
                          0.4444444444444444,
                          "#bd3786"
                        ],
                        [
                          0.5555555555555556,
                          "#d8576b"
                        ],
                        [
                          0.6666666666666666,
                          "#ed7953"
                        ],
                        [
                          0.7777777777777778,
                          "#fb9f3a"
                        ],
                        [
                          0.8888888888888888,
                          "#fdca26"
                        ],
                        [
                          1,
                          "#f0f921"
                        ]
                      ],
                      "sequentialminus": [
                        [
                          0,
                          "#0d0887"
                        ],
                        [
                          0.1111111111111111,
                          "#46039f"
                        ],
                        [
                          0.2222222222222222,
                          "#7201a8"
                        ],
                        [
                          0.3333333333333333,
                          "#9c179e"
                        ],
                        [
                          0.4444444444444444,
                          "#bd3786"
                        ],
                        [
                          0.5555555555555556,
                          "#d8576b"
                        ],
                        [
                          0.6666666666666666,
                          "#ed7953"
                        ],
                        [
                          0.7777777777777778,
                          "#fb9f3a"
                        ],
                        [
                          0.8888888888888888,
                          "#fdca26"
                        ],
                        [
                          1,
                          "#f0f921"
                        ]
                      ]
                    },
                    "colorway": [
                      "#636efa",
                      "#EF553B",
                      "#00cc96",
                      "#ab63fa",
                      "#FFA15A",
                      "#19d3f3",
                      "#FF6692",
                      "#B6E880",
                      "#FF97FF",
                      "#FECB52"
                    ],
                    "font": {
                      "color": "#2a3f5f"
                    },
                    "geo": {
                      "bgcolor": "white",
                      "lakecolor": "white",
                      "landcolor": "#E5ECF6",
                      "showlakes": true,
                      "showland": true,
                      "subunitcolor": "white"
                    },
                    "hoverlabel": {
                      "align": "left"
                    },
                    "hovermode": "closest",
                    "mapbox": {
                      "style": "light"
                    },
                    "paper_bgcolor": "white",
                    "plot_bgcolor": "#E5ECF6",
                    "polar": {
                      "angularaxis": {
                        "gridcolor": "white",
                        "linecolor": "white",
                        "ticks": ""
                      },
                      "bgcolor": "#E5ECF6",
                      "radialaxis": {
                        "gridcolor": "white",
                        "linecolor": "white",
                        "ticks": ""
                      }
                    },
                    "scene": {
                      "xaxis": {
                        "backgroundcolor": "#E5ECF6",
                        "gridcolor": "white",
                        "gridwidth": 2,
                        "linecolor": "white",
                        "showbackground": true,
                        "ticks": "",
                        "zerolinecolor": "white"
                      },
                      "yaxis": {
                        "backgroundcolor": "#E5ECF6",
                        "gridcolor": "white",
                        "gridwidth": 2,
                        "linecolor": "white",
                        "showbackground": true,
                        "ticks": "",
                        "zerolinecolor": "white"
                      },
                      "zaxis": {
                        "backgroundcolor": "#E5ECF6",
                        "gridcolor": "white",
                        "gridwidth": 2,
                        "linecolor": "white",
                        "showbackground": true,
                        "ticks": "",
                        "zerolinecolor": "white"
                      }
                    },
                    "shapedefaults": {
                      "line": {
                        "color": "#2a3f5f"
                      }
                    },
                    "ternary": {
                      "aaxis": {
                        "gridcolor": "white",
                        "linecolor": "white",
                        "ticks": ""
                      },
                      "baxis": {
                        "gridcolor": "white",
                        "linecolor": "white",
                        "ticks": ""
                      },
                      "bgcolor": "#E5ECF6",
                      "caxis": {
                        "gridcolor": "white",
                        "linecolor": "white",
                        "ticks": ""
                      }
                    },
                    "title": {
                      "x": 0.05
                    },
                    "xaxis": {
                      "automargin": true,
                      "gridcolor": "white",
                      "linecolor": "white",
                      "ticks": "",
                      "title": {
                        "standoff": 15
                      },
                      "zerolinecolor": "white",
                      "zerolinewidth": 2
                    },
                    "yaxis": {
                      "automargin": true,
                      "gridcolor": "white",
                      "linecolor": "white",
                      "ticks": "",
                      "title": {
                        "standoff": 15
                      },
                      "zerolinecolor": "white",
                      "zerolinewidth": 2
                    }
                  }
                },
                "title": {
                  "text": "Trainingsdaten (Text + Kategorie)"
                }
              }
            }
          },
          "metadata": {},
          "output_type": "display_data"
        }
      ],
      "source": [
        "def parse_eml_file(filepath):\n",
        "    \"\"\"\n",
        "    Parst eine EML-Datei und gibt den reinen Textinhalt zurück sowie ggf. die Kategorie.\n",
        "    \"\"\"\n",
        "    with open(filepath, \"rb\") as f:\n",
        "        msg = BytesParser(policy=policy.default).parse(f)\n",
        "        body = msg.get_body(preferencelist=(\"plain\",)).get_content().strip()\n",
        "        return body, msg.get(\"X-Category\", \"\")\n",
        "\n",
        "# Trainingsdaten einlesen\n",
        "train_data = []\n",
        "for filepath in glob.glob(os.path.join(train_dir, \"*.eml\")):\n",
        "    text, category = parse_eml_file(filepath)\n",
        "    if not category:\n",
        "        raise ValueError(f\"Kategorie fehlt in Trainingsdatei {filepath}\")\n",
        "    train_data.append({\"text\": text, \"category\": category})\n",
        "df_train = pd.DataFrame(train_data)\n",
        "display_df(df_train, \"Trainingsdaten (Text + Kategorie)\")\n",
        "\n",
        "# Testdaten einlesen\n",
        "test_data = []\n",
        "for filepath in glob.glob(os.path.join(test_dir, \"*.eml\")):\n",
        "    text, category = parse_eml_file(filepath)\n",
        "    if not category:\n",
        "        raise ValueError(f\"Kategorie fehlt in Trainingsdatei {filepath}\")\n",
        "    test_data.append({\"text\": text, \"category\": category})\n",
        "df_test = pd.DataFrame(test_data)\n",
        "display_df(df_test, \"Trainingsdaten (Text + Kategorie)\")\n",
        "\n"
      ]
    },
    {
      "cell_type": "markdown",
      "id": "6ef400d6",
      "metadata": {},
      "source": [
        "## 4. Klassifikationsfunktionen\n",
        "\n",
        "Wir definieren zwei Funktionen:\n",
        "- `classify_ticket_zero_shot`: Zero-Shot-Ansatz\n",
        "- `classify_ticket_few_shot`: Few-Shot-Ansatz mit 3 Beispielen aus den Trainingsdaten\n"
      ]
    },
    {
      "cell_type": "code",
      "execution_count": 5,
      "id": "e352fb0e",
      "metadata": {},
      "outputs": [],
      "source": [
        "def classify_ticket_zero_shot(ticket_text: str) -> str:\n",
        "    \"\"\"\n",
        "    Zero-Shot-Klassifikation: Nur Instruktion + Ticket-Text.\n",
        "    \"\"\"\n",
        "    prompt = f\"\"\"\n",
        "Du bist ein Support-System für industrielle Sensoren. Ordne das folgende Ticket einer der Kategorien zu: Installation, Störung, Lieferung.\n",
        "Beachte: falls es sich um eine Störung bei der  Installation handelt, ordne es der Kategorie \"Installation\" zu. \n",
        "Gib nur die Kategorie zurück.\n",
        "\n",
        "Ticket:\n",
        "{ticket_text}\n",
        "\"\"\"\n",
        "    response = client.chat.completions.create(\n",
        "        model=\"gpt-4o-mini\",  # Modell kann angepasst werden\n",
        "        messages=[\n",
        "            {\"role\": \"system\", \"content\": \"Du bist ein hilfreiches Klassifikationssystem.\"},\n",
        "            {\"role\": \"user\", \"content\": prompt}\n",
        "        ],\n",
        "        temperature=0.0,  # Für deterministische Ausgabe\n",
        "    )\n",
        "    return response.choices[0].message.content.strip()\n",
        "\n",
        "def classify_ticket_few_shot(ticket_text: str) -> str:\n",
        "    \"\"\"\n",
        "    Few-Shot-Klassifikation: 3 feste Beispiele + Instruktion + Ticket-Text.\n",
        "    \"\"\"\n",
        "    prompt = f\"\"\"\n",
        "Du bist ein Support-System für industrielle Sensoren. Anhand der folgenden Beispiele sieh dir an, wie Tickets klassifiziert werden:\n",
        "\n",
        "Beispiel 1:\n",
        "Ticket: Sehr geehrte Damen und Herren,\n",
        "\n",
        "unser Sensor ist nach dem Transport mit der Post angekommen und zeigt während der Installation plötzlich Abweichungen von bis zu 15% an. Wir vermuten, dass das Gerät beim Versand verstellt wurde. Benötigen Sie das Gerät\n",
        "zurück oder können wir eine Fernkalibrierung durchführen? Welche Schritte schlagen Sie vor?\n",
        "\n",
        "Freundliche Grüße,\n",
        "Herr Koch\n",
        "\n",
        "Kategorie: Installation\n",
        "\n",
        "Beispiel 2:\n",
        "Ticket: Sehr geehrtes Support-Team,\n",
        "\n",
        "unser Drucksensor in der Verpackungslinie driftet aktuell um mehr als 13\n",
        "%. Die automatische Selbstkalibrierung scheint fehlerhaft zu arbeiten. Wir haben bereits die Kalibrierungsroutine manuell durchgeführt, jedoch ohne Erfolg. In der CSV-Datei im Anhang sehen Sie die aufgezeichneten Messwerte und\n",
        " Soll-Ist-Abweichungen.\n",
        "\n",
        "Bitte teilen Sie uns die korrekten Kalibrierungsschritte mit.\n",
        "\n",
        "Vielen Dank,\n",
        "Herr Weber\n",
        "\n",
        "Störung\n",
        "\n",
        "Beispiel 3:\n",
        "Ticket: Hallo,\n",
        "\n",
        "wir haben bei Ihnen die Sensoren Xi3 und X544 bestellt. Meine Bestellnummer lautet: 548268458.\n",
        "Obwohl Sie gestern hätten ankommen müssen, sind sie noch nicht eingetroffen. Geben Sie mir bitte eine Rückmeldung. Wir benötigen die Sensoren dringend.\n",
        "\n",
        "LG Herr Mustermann\n",
        "\n",
        "Lieferung\n",
        "\n",
        "Ordne nun das folgende Ticket einer der Kategorien zu: Installation, Störung, Lieferung.\n",
        "Beachte: falls es sich um eine Störung bei der  Installation handelt, ordne es der Kategorie \"Installation\" zu.  Ordne Defekte, die durch einen Lieferungstransport entstanden sind, der Kategorie \"Lieferung\" zu.\n",
        "\n",
        "Gebe ausschließlich den Kategorienamen zurück.\n",
        "\n",
        "Ticket:\n",
        "{ticket_text}\n",
        "\"\"\"\n",
        "    response = client.chat.completions.create(\n",
        "        model=\"gpt-4o-mini\",\n",
        "        messages=[\n",
        "            {\"role\": \"system\", \"content\": \"Du bist ein hilfreiches Klassifikationssystem.\"},\n",
        "            {\"role\": \"user\", \"content\": prompt}\n",
        "        ],\n",
        "        temperature=0.0,\n",
        "    )\n",
        "    return response.choices[0].message.content.strip()\n"
      ]
    },
    {
      "cell_type": "markdown",
      "id": "1e03f41c",
      "metadata": {},
      "source": [
        "## 5. Evaluation auf Daten\n",
        "\n",
        "Wir messen, wie oft die Zero-Shot- und Few-Shot-Ansätze die korrekte Kategorie auf den Trainingsdaten vorhersagen.\n"
      ]
    },
    {
      "cell_type": "code",
      "execution_count": 6,
      "id": "a56c3054",
      "metadata": {},
      "outputs": [
        {
          "data": {
            "application/vnd.plotly.v1+json": {
              "config": {
                "plotlyServerURL": "https://plot.ly"
              },
              "data": [
                {
                  "cells": {
                    "align": "left",
                    "values": [
                      [
                        "Hallo Support-Team,\n\nich versuche seit gestern, das neue Sensormodul an unserem Montageband zu installieren. Leider weicht die Dokumentation von den tatsächlichen Anschlussklemmen ab. In der Anleitung steht, dass Pin 5 für den Erdungskontakt zuständig ist, jedoch habe ich am Modul Pin 6 hier vorgefunden. Außerdem reagiert das Gerät nicht auf die Initialisierungsfolge, die im Handbuch steht.\n\nKönnt ihr mir bitte eine aktualisierte Beschreibung oder ein Diagramm senden, wie der Sensor korrekt angeschlossen wird? Wir stehen kurz vor Produktionsstart und jede Verzögerung verursacht Kosten.\n\nBeste Grüße,\nHerr Schmitz\nFertigungstechnik",
                        "Sehr geehrtes Support-Team,\n\nwir haben vor zwei Tagen das Paket mit dem Sensormodul erhalten, aber leider haben wir ein anderes Modell (Typ B statt Typ A) erhalten. Wir benötigen dringend ein korrektes Ersatzteil. Bitte lassen Sie mich wissen, wie wir das falsche Gerät zurückschicken können.\n\nMit freundlichen Grüßen,\nFrau Braun\nEinkauf",
                        "Liebes Serviceteam,\n\nseit heute Morgen melden unsere Sensoren im Stahlpresswerk dauerhaft den Fehlercode E234. Nach dem Hochfahren lief alles normal, doch nach etwa einer Stunde Produktion blieb die Maschine stehen. In den Logs lesen wir immer wieder denselben Eintrag: \"Error E234: Overcurrent detected\". Eine erste Überprüfung der Stromzufuhr ergab keine Auffälligkeiten. Ich füge Auszüge aus dem Logfile unten an.\n\nLog:\n2025-05-28 08:15:23 - INFO - Sensor initialisiert\n2025-05-28 09:05:10 - WARN - Spannungsspitze erkannt\n2025-05-28 09:05:11 - ERROR - Error E234: Overcurrent detected\n2025-05-28 09:05:12 - INFO - Sicherheitsabschaltung\n\nBitte gebt mir dringend Hinweise, wie wir das Problem beheben können, da die Produktion stillsteht.\n\nDanke und beste Grüße,\nFrau Müller\nAnlagenbetrieb",
                        "Sehr geehrtes Support-Team,\n\nwir haben festgestellt, dass unser Temperatursensor im Ofenbereich seit dem letzten Wartungsintervall Abweichungen von bis zu ±2°C zeigt. Die eingebauten Kalibrierungsprotokolle durchlaufen keine Abweichungskorrektur. Wir benötigen eine präzise Kalibrierungsanleitung oder ein Kalibrierungstool. Eventuell muss der Sensor physisch ausgetauscht werden.\n\nKönnt ihr mir bitte die aktuellen Kalibrierdaten und das Vorgehen zur Neukalibrierung per Fernwartung schicken? Idealerweise bis Ende der Woche, damit wir unsere Chargenplanung nicht gefährden.\n\nMit freundlichen Grüßen,\nHerr Becker\nQualitätssicherung",
                        "Hallo Support,\n\nich bekomme die neuen Sensoren nicht in unsere SCADA-Umgebung eingebunden. Die Installation\nscheint nicht wie angegeben zu funktionieren. Der Datenfluss bleibt konstant bei 0 Bytes/s, obwohl die Verkabelung nach Schema angebracht scheint. Kann mich bitte jemand unter 0123-456789 zurückrufen, damit wir die Netzwerkparameter gemeinsam prüfen?\n\nVielen Dank,\nFrau Wagner\nIT-Abteilung",
                        "Guten Tag,\n\nnachdem wir letzte Woche das letzte Software-Release der SPS eingespielt haben, lief alles super. Seit heute verhält sich der Sensor sehr instabil. Laut Release Notes sollte die neue Firmware V2.1.3 das Problem beheben. Leider finde ich keine Download-Links in Ihrem Portal. Bitte stellen Sie uns die erste stabile Version des Firmware-Downloads zur Verfügung und eine kurze Anleitung, wie wir die bestehende Version (V2.0.9) aktualisieren.\n\nBeste Grüße,\nHerr Fischer\nAutomatisierungstechnik",
                        "Hallo,\n\nwenn ich das System starte, erhalte ich sofort die Fehlermeldung: \"Parameter X ungültig\". Ich habe die Konfigurationsdateien geprüft; alle Parameter sind, soweit ich sehen kann, mit den Vorgaben aus dem Handbuch übereinstimmend. Im Anhang sende ich meine config.ini.\n\nKönnen Sie mir sagen, welcher Eintrag genau problematisch ist? Ich habe bereits versucht, die Parameter manuell zu ändern, ohne Erfolg.\n\nDanke,\nFrau Lange\nIT-Support",
                        "Sehr geehrte Damen und Herren,\n\nunser Sensor ist nach dem Transport mit der Post angekommen und zeigt während der Installation plötzlich Abweichungen von bis zu ±5% an. Wir vermuten, dass das Gerät beim Versand verstellt wurde. Benötigen Sie das Gerät zurück oder können wir eine Fernkalibrierung durchführen? Welche Schritte schlagen Sie vor?\n\nFreundliche Grüße,\nHerr Koch\nLogistik",
                        "Liebes Serviceteam,\n\nunser Produktionssensor driftet seit gestern um mehr als 10 Einheiten. Wir haben bereits manuell nachjustiert, aber das reicht nicht mehr aus. Wir benötigen dringend eine Wartung oder einen Austausch, da die nächste Charge noch heute gestartet werden soll.\n\nVielen Dank,\nFrau Weber\nProduktionsleitung",
                        "Hallo,\n\nich stehe vor einer Konfiguration des Sensors in unserer neuen Verpackungslinie und bin unsicher, welche Parameter für die Auslösung am besten geeignet sind. Könnt ihr mich bitte kurzfristig zurückrufen? Meine Nummer: 0987-654321.\n\nDanke und Grüße,\nHerr Neumann\nInbetriebnahme",
                        "Hallo Support,\n\nwir haben Probleme, das neue Ultraschallsensormodul an unsere Steuerung anzubinden. Der Anschlussplan in der Anleitung unterscheidet sich von dem auf dem PCB gestanzten Layout. Pin 3 scheint nicht korrekt beschriftet zu sein. Ohne genaue Anleitung kommt es aktuell zu Fehlmessungen.\n\nBitte sendet uns ein detailliertes Schaltbild.\n\nViele Grüße,\nHerr Braun\nInbetriebnahme",
                        "Sehr geehrtes Support-Team,\n\nwir haben gestern ein Sensorset vom Typ C erhalten, obwohl wir Typ A bestellt hatten. Wir benötigen dringend Typ A, da der Auftrag heute ausgeführt werden muss. Bitte informieren Sie uns über das Rücksendeverfahren und den Versand des korrekten Typs.\n\nFreundliche Grüße,\nFrau Schulz\nEinkauf",
                        "Liebes Serviceteam,\n\nheute wurde bei unserem Temperatursensor im Ofenbereich wiederholt der Fehler F402 („Overheat detected“) ausgegeben, obwohl die Kühlung ordnungsgemäß arbeitet. Wir haben den Luftstrom und die Verkabelung geprüft, aber das Problem tritt immer wieder auf. Ein ähnlicher Vorfall führte letzten Monat zu einem Anlagenstillstand.\n\nWir benötigen dringend Ihre Unterstützung bei der Fehlerdiagnose.\n\nGruß,\nFrau Meier\nProduktion",
                        "Sehr geehrtes Support-Team,\n\nunser Drucksensor in der Verpackungslinie driftet aktuell um mehr als ±3%. Die automatische Selbstkalibrierung scheint fehlerhaft zu arbeiten. Wir haben bereits die Kalibrierungsroutine manuell durchgeführt, jedoch ohne Erfolg. In der CSV-Datei im Anhang sehen Sie die aufgezeichneten Messwerte und Soll-Ist-Abweichungen.\n\nBitte teilen Sie uns die korrekten Kalibrierungsschritte mit.\n\nVielen Dank,\nHerr Weber\nQualitätssicherung",
                        "Hallo Support,\n\nwir möchten die Modbus-Parameter für das Sensormodul ändern, kommen aber nicht weiter. Unser IT-Team benötigt Rücksprache, um das Registermapping korrekt zu setzen. Bitte rufen Sie mich unter 0151-12345678 zurück, damit wir die Details besprechen können.\n\nDanke,\nFrau Fischer\nIT-Abteilung",
                        "Guten Tag,\n\nnachdem wir heute das Firmware-Update auf Version 3.0 durchgeführt haben, stürzt unser Sensor nach ca. 10 Minuten ab und startet neu. Im Display erscheint „Fatal Error 0x09B“. Die vorherige Version 2.9.1 lief stabil. Wir benötigen die vorherige Firmware oder eine Fehleranalyse.\n\nFreundliche Grüße,\nHerr Klein\nAutomatisierung",
                        "Hallo Support,\n\nbeim Hochfahren der Anlage erscheint direkt: \"Konfigurationsparameter X ungültig\". Wir haben den Parameterbereich im Handbuch nachgeschlagen, aber finden keinen Hinweis auf erlaubte Werte für X. Wir senden Ihnen unsere config.yaml im Anhang.\n\nBitte helfen Sie uns, den korrekten Parameterbereich zu bestimmen.\n\nGruß,\nFrau Schneider\nProzesssteuerung",
                        "Sehr geehrte Damen und Herren,\n\nunser Sensormodul kam heute mit sichtbaren Kratzern an und zeigt im Testbetrieb keine Werte an. Das Display bleibt leer. Wir vermuten, dass beim Transport etwas beschädigt wurde. Bitte teilen Sie uns das Rücksendeverfahren mit und ob eine Neuinstallation erforderlich ist.\n\nMit freundlichen Grüßen,\nHerr Hoffmann\nLogistik",
                        "Liebes Serviceteam,\n\nunser Produktionssensor driftet seit gestern um über 15 Einheiten, und wir müssen heute eine neue Charge starten. Die manuelle Justierung reicht nicht mehr aus. Bitte schicken Sie uns umgehend einen Techniker oder ein Austauschgerät.\n\nDanke und Grüße,\nFrau Bauer\nProduktionsleitung",
                        "Hallo,\n\nwir haben Schwierigkeiten, unseren Sensor in unser SCADA-System einzubinden. Die Datenübertragung bricht immer wieder ab. Wir benötigen eine telefonische Beratung, um die Netzwerk- und Protokolleinstellungen zu überprüfen. Sie erreichen mich unter 0170-9876543.\n\nDanke,\nHerr Richter\nIT-Abteilung"
                      ],
                      [
                        "Installation",
                        "Lieferung",
                        "Störung",
                        "Störung",
                        "Installation",
                        "Installation",
                        "Störung",
                        "Installation",
                        "Störung",
                        "Installation",
                        "Installation",
                        "Lieferung",
                        "Störung",
                        "Störung",
                        "Installation",
                        "Störung",
                        "Störung",
                        "Lieferung",
                        "Störung",
                        "Installation"
                      ],
                      [
                        "Installation",
                        "Lieferung",
                        "Störung",
                        "Störung",
                        "Installation",
                        "Störung",
                        "Störung",
                        "Installation",
                        "Störung",
                        "Installation",
                        "Installation",
                        "Lieferung",
                        "Störung",
                        "Störung",
                        "Installation",
                        "Störung",
                        "Störung",
                        "Lieferung",
                        "Störung",
                        "Installation"
                      ],
                      [
                        true,
                        true,
                        true,
                        true,
                        true,
                        false,
                        true,
                        true,
                        true,
                        true,
                        true,
                        true,
                        true,
                        true,
                        true,
                        true,
                        true,
                        true,
                        true,
                        true
                      ],
                      [
                        "Installation",
                        "Lieferung",
                        "Störung",
                        "Installation",
                        "Installation",
                        "Installation",
                        "Störung",
                        "Installation",
                        "Störung",
                        "Installation",
                        "Installation",
                        "Lieferung",
                        "Störung",
                        "Störung",
                        "Installation",
                        "Störung",
                        "Installation",
                        "Lieferung",
                        "Störung",
                        "Installation"
                      ],
                      [
                        true,
                        true,
                        true,
                        false,
                        true,
                        true,
                        true,
                        true,
                        true,
                        true,
                        true,
                        true,
                        true,
                        true,
                        true,
                        true,
                        false,
                        true,
                        true,
                        true
                      ]
                    ]
                  },
                  "header": {
                    "align": "left",
                    "fill": {
                      "color": "lightgrey"
                    },
                    "values": [
                      "text",
                      "category",
                      "pred_zero_shot",
                      "correct_zero_shot",
                      "pred_few_shot",
                      "correct_few_shot"
                    ]
                  },
                  "type": "table"
                }
              ],
              "layout": {
                "template": {
                  "data": {
                    "bar": [
                      {
                        "error_x": {
                          "color": "#2a3f5f"
                        },
                        "error_y": {
                          "color": "#2a3f5f"
                        },
                        "marker": {
                          "line": {
                            "color": "#E5ECF6",
                            "width": 0.5
                          },
                          "pattern": {
                            "fillmode": "overlay",
                            "size": 10,
                            "solidity": 0.2
                          }
                        },
                        "type": "bar"
                      }
                    ],
                    "barpolar": [
                      {
                        "marker": {
                          "line": {
                            "color": "#E5ECF6",
                            "width": 0.5
                          },
                          "pattern": {
                            "fillmode": "overlay",
                            "size": 10,
                            "solidity": 0.2
                          }
                        },
                        "type": "barpolar"
                      }
                    ],
                    "carpet": [
                      {
                        "aaxis": {
                          "endlinecolor": "#2a3f5f",
                          "gridcolor": "white",
                          "linecolor": "white",
                          "minorgridcolor": "white",
                          "startlinecolor": "#2a3f5f"
                        },
                        "baxis": {
                          "endlinecolor": "#2a3f5f",
                          "gridcolor": "white",
                          "linecolor": "white",
                          "minorgridcolor": "white",
                          "startlinecolor": "#2a3f5f"
                        },
                        "type": "carpet"
                      }
                    ],
                    "choropleth": [
                      {
                        "colorbar": {
                          "outlinewidth": 0,
                          "ticks": ""
                        },
                        "type": "choropleth"
                      }
                    ],
                    "contour": [
                      {
                        "colorbar": {
                          "outlinewidth": 0,
                          "ticks": ""
                        },
                        "colorscale": [
                          [
                            0,
                            "#0d0887"
                          ],
                          [
                            0.1111111111111111,
                            "#46039f"
                          ],
                          [
                            0.2222222222222222,
                            "#7201a8"
                          ],
                          [
                            0.3333333333333333,
                            "#9c179e"
                          ],
                          [
                            0.4444444444444444,
                            "#bd3786"
                          ],
                          [
                            0.5555555555555556,
                            "#d8576b"
                          ],
                          [
                            0.6666666666666666,
                            "#ed7953"
                          ],
                          [
                            0.7777777777777778,
                            "#fb9f3a"
                          ],
                          [
                            0.8888888888888888,
                            "#fdca26"
                          ],
                          [
                            1,
                            "#f0f921"
                          ]
                        ],
                        "type": "contour"
                      }
                    ],
                    "contourcarpet": [
                      {
                        "colorbar": {
                          "outlinewidth": 0,
                          "ticks": ""
                        },
                        "type": "contourcarpet"
                      }
                    ],
                    "heatmap": [
                      {
                        "colorbar": {
                          "outlinewidth": 0,
                          "ticks": ""
                        },
                        "colorscale": [
                          [
                            0,
                            "#0d0887"
                          ],
                          [
                            0.1111111111111111,
                            "#46039f"
                          ],
                          [
                            0.2222222222222222,
                            "#7201a8"
                          ],
                          [
                            0.3333333333333333,
                            "#9c179e"
                          ],
                          [
                            0.4444444444444444,
                            "#bd3786"
                          ],
                          [
                            0.5555555555555556,
                            "#d8576b"
                          ],
                          [
                            0.6666666666666666,
                            "#ed7953"
                          ],
                          [
                            0.7777777777777778,
                            "#fb9f3a"
                          ],
                          [
                            0.8888888888888888,
                            "#fdca26"
                          ],
                          [
                            1,
                            "#f0f921"
                          ]
                        ],
                        "type": "heatmap"
                      }
                    ],
                    "histogram": [
                      {
                        "marker": {
                          "pattern": {
                            "fillmode": "overlay",
                            "size": 10,
                            "solidity": 0.2
                          }
                        },
                        "type": "histogram"
                      }
                    ],
                    "histogram2d": [
                      {
                        "colorbar": {
                          "outlinewidth": 0,
                          "ticks": ""
                        },
                        "colorscale": [
                          [
                            0,
                            "#0d0887"
                          ],
                          [
                            0.1111111111111111,
                            "#46039f"
                          ],
                          [
                            0.2222222222222222,
                            "#7201a8"
                          ],
                          [
                            0.3333333333333333,
                            "#9c179e"
                          ],
                          [
                            0.4444444444444444,
                            "#bd3786"
                          ],
                          [
                            0.5555555555555556,
                            "#d8576b"
                          ],
                          [
                            0.6666666666666666,
                            "#ed7953"
                          ],
                          [
                            0.7777777777777778,
                            "#fb9f3a"
                          ],
                          [
                            0.8888888888888888,
                            "#fdca26"
                          ],
                          [
                            1,
                            "#f0f921"
                          ]
                        ],
                        "type": "histogram2d"
                      }
                    ],
                    "histogram2dcontour": [
                      {
                        "colorbar": {
                          "outlinewidth": 0,
                          "ticks": ""
                        },
                        "colorscale": [
                          [
                            0,
                            "#0d0887"
                          ],
                          [
                            0.1111111111111111,
                            "#46039f"
                          ],
                          [
                            0.2222222222222222,
                            "#7201a8"
                          ],
                          [
                            0.3333333333333333,
                            "#9c179e"
                          ],
                          [
                            0.4444444444444444,
                            "#bd3786"
                          ],
                          [
                            0.5555555555555556,
                            "#d8576b"
                          ],
                          [
                            0.6666666666666666,
                            "#ed7953"
                          ],
                          [
                            0.7777777777777778,
                            "#fb9f3a"
                          ],
                          [
                            0.8888888888888888,
                            "#fdca26"
                          ],
                          [
                            1,
                            "#f0f921"
                          ]
                        ],
                        "type": "histogram2dcontour"
                      }
                    ],
                    "mesh3d": [
                      {
                        "colorbar": {
                          "outlinewidth": 0,
                          "ticks": ""
                        },
                        "type": "mesh3d"
                      }
                    ],
                    "parcoords": [
                      {
                        "line": {
                          "colorbar": {
                            "outlinewidth": 0,
                            "ticks": ""
                          }
                        },
                        "type": "parcoords"
                      }
                    ],
                    "pie": [
                      {
                        "automargin": true,
                        "type": "pie"
                      }
                    ],
                    "scatter": [
                      {
                        "fillpattern": {
                          "fillmode": "overlay",
                          "size": 10,
                          "solidity": 0.2
                        },
                        "type": "scatter"
                      }
                    ],
                    "scatter3d": [
                      {
                        "line": {
                          "colorbar": {
                            "outlinewidth": 0,
                            "ticks": ""
                          }
                        },
                        "marker": {
                          "colorbar": {
                            "outlinewidth": 0,
                            "ticks": ""
                          }
                        },
                        "type": "scatter3d"
                      }
                    ],
                    "scattercarpet": [
                      {
                        "marker": {
                          "colorbar": {
                            "outlinewidth": 0,
                            "ticks": ""
                          }
                        },
                        "type": "scattercarpet"
                      }
                    ],
                    "scattergeo": [
                      {
                        "marker": {
                          "colorbar": {
                            "outlinewidth": 0,
                            "ticks": ""
                          }
                        },
                        "type": "scattergeo"
                      }
                    ],
                    "scattergl": [
                      {
                        "marker": {
                          "colorbar": {
                            "outlinewidth": 0,
                            "ticks": ""
                          }
                        },
                        "type": "scattergl"
                      }
                    ],
                    "scattermap": [
                      {
                        "marker": {
                          "colorbar": {
                            "outlinewidth": 0,
                            "ticks": ""
                          }
                        },
                        "type": "scattermap"
                      }
                    ],
                    "scattermapbox": [
                      {
                        "marker": {
                          "colorbar": {
                            "outlinewidth": 0,
                            "ticks": ""
                          }
                        },
                        "type": "scattermapbox"
                      }
                    ],
                    "scatterpolar": [
                      {
                        "marker": {
                          "colorbar": {
                            "outlinewidth": 0,
                            "ticks": ""
                          }
                        },
                        "type": "scatterpolar"
                      }
                    ],
                    "scatterpolargl": [
                      {
                        "marker": {
                          "colorbar": {
                            "outlinewidth": 0,
                            "ticks": ""
                          }
                        },
                        "type": "scatterpolargl"
                      }
                    ],
                    "scatterternary": [
                      {
                        "marker": {
                          "colorbar": {
                            "outlinewidth": 0,
                            "ticks": ""
                          }
                        },
                        "type": "scatterternary"
                      }
                    ],
                    "surface": [
                      {
                        "colorbar": {
                          "outlinewidth": 0,
                          "ticks": ""
                        },
                        "colorscale": [
                          [
                            0,
                            "#0d0887"
                          ],
                          [
                            0.1111111111111111,
                            "#46039f"
                          ],
                          [
                            0.2222222222222222,
                            "#7201a8"
                          ],
                          [
                            0.3333333333333333,
                            "#9c179e"
                          ],
                          [
                            0.4444444444444444,
                            "#bd3786"
                          ],
                          [
                            0.5555555555555556,
                            "#d8576b"
                          ],
                          [
                            0.6666666666666666,
                            "#ed7953"
                          ],
                          [
                            0.7777777777777778,
                            "#fb9f3a"
                          ],
                          [
                            0.8888888888888888,
                            "#fdca26"
                          ],
                          [
                            1,
                            "#f0f921"
                          ]
                        ],
                        "type": "surface"
                      }
                    ],
                    "table": [
                      {
                        "cells": {
                          "fill": {
                            "color": "#EBF0F8"
                          },
                          "line": {
                            "color": "white"
                          }
                        },
                        "header": {
                          "fill": {
                            "color": "#C8D4E3"
                          },
                          "line": {
                            "color": "white"
                          }
                        },
                        "type": "table"
                      }
                    ]
                  },
                  "layout": {
                    "annotationdefaults": {
                      "arrowcolor": "#2a3f5f",
                      "arrowhead": 0,
                      "arrowwidth": 1
                    },
                    "autotypenumbers": "strict",
                    "coloraxis": {
                      "colorbar": {
                        "outlinewidth": 0,
                        "ticks": ""
                      }
                    },
                    "colorscale": {
                      "diverging": [
                        [
                          0,
                          "#8e0152"
                        ],
                        [
                          0.1,
                          "#c51b7d"
                        ],
                        [
                          0.2,
                          "#de77ae"
                        ],
                        [
                          0.3,
                          "#f1b6da"
                        ],
                        [
                          0.4,
                          "#fde0ef"
                        ],
                        [
                          0.5,
                          "#f7f7f7"
                        ],
                        [
                          0.6,
                          "#e6f5d0"
                        ],
                        [
                          0.7,
                          "#b8e186"
                        ],
                        [
                          0.8,
                          "#7fbc41"
                        ],
                        [
                          0.9,
                          "#4d9221"
                        ],
                        [
                          1,
                          "#276419"
                        ]
                      ],
                      "sequential": [
                        [
                          0,
                          "#0d0887"
                        ],
                        [
                          0.1111111111111111,
                          "#46039f"
                        ],
                        [
                          0.2222222222222222,
                          "#7201a8"
                        ],
                        [
                          0.3333333333333333,
                          "#9c179e"
                        ],
                        [
                          0.4444444444444444,
                          "#bd3786"
                        ],
                        [
                          0.5555555555555556,
                          "#d8576b"
                        ],
                        [
                          0.6666666666666666,
                          "#ed7953"
                        ],
                        [
                          0.7777777777777778,
                          "#fb9f3a"
                        ],
                        [
                          0.8888888888888888,
                          "#fdca26"
                        ],
                        [
                          1,
                          "#f0f921"
                        ]
                      ],
                      "sequentialminus": [
                        [
                          0,
                          "#0d0887"
                        ],
                        [
                          0.1111111111111111,
                          "#46039f"
                        ],
                        [
                          0.2222222222222222,
                          "#7201a8"
                        ],
                        [
                          0.3333333333333333,
                          "#9c179e"
                        ],
                        [
                          0.4444444444444444,
                          "#bd3786"
                        ],
                        [
                          0.5555555555555556,
                          "#d8576b"
                        ],
                        [
                          0.6666666666666666,
                          "#ed7953"
                        ],
                        [
                          0.7777777777777778,
                          "#fb9f3a"
                        ],
                        [
                          0.8888888888888888,
                          "#fdca26"
                        ],
                        [
                          1,
                          "#f0f921"
                        ]
                      ]
                    },
                    "colorway": [
                      "#636efa",
                      "#EF553B",
                      "#00cc96",
                      "#ab63fa",
                      "#FFA15A",
                      "#19d3f3",
                      "#FF6692",
                      "#B6E880",
                      "#FF97FF",
                      "#FECB52"
                    ],
                    "font": {
                      "color": "#2a3f5f"
                    },
                    "geo": {
                      "bgcolor": "white",
                      "lakecolor": "white",
                      "landcolor": "#E5ECF6",
                      "showlakes": true,
                      "showland": true,
                      "subunitcolor": "white"
                    },
                    "hoverlabel": {
                      "align": "left"
                    },
                    "hovermode": "closest",
                    "mapbox": {
                      "style": "light"
                    },
                    "paper_bgcolor": "white",
                    "plot_bgcolor": "#E5ECF6",
                    "polar": {
                      "angularaxis": {
                        "gridcolor": "white",
                        "linecolor": "white",
                        "ticks": ""
                      },
                      "bgcolor": "#E5ECF6",
                      "radialaxis": {
                        "gridcolor": "white",
                        "linecolor": "white",
                        "ticks": ""
                      }
                    },
                    "scene": {
                      "xaxis": {
                        "backgroundcolor": "#E5ECF6",
                        "gridcolor": "white",
                        "gridwidth": 2,
                        "linecolor": "white",
                        "showbackground": true,
                        "ticks": "",
                        "zerolinecolor": "white"
                      },
                      "yaxis": {
                        "backgroundcolor": "#E5ECF6",
                        "gridcolor": "white",
                        "gridwidth": 2,
                        "linecolor": "white",
                        "showbackground": true,
                        "ticks": "",
                        "zerolinecolor": "white"
                      },
                      "zaxis": {
                        "backgroundcolor": "#E5ECF6",
                        "gridcolor": "white",
                        "gridwidth": 2,
                        "linecolor": "white",
                        "showbackground": true,
                        "ticks": "",
                        "zerolinecolor": "white"
                      }
                    },
                    "shapedefaults": {
                      "line": {
                        "color": "#2a3f5f"
                      }
                    },
                    "ternary": {
                      "aaxis": {
                        "gridcolor": "white",
                        "linecolor": "white",
                        "ticks": ""
                      },
                      "baxis": {
                        "gridcolor": "white",
                        "linecolor": "white",
                        "ticks": ""
                      },
                      "bgcolor": "#E5ECF6",
                      "caxis": {
                        "gridcolor": "white",
                        "linecolor": "white",
                        "ticks": ""
                      }
                    },
                    "title": {
                      "x": 0.05
                    },
                    "xaxis": {
                      "automargin": true,
                      "gridcolor": "white",
                      "linecolor": "white",
                      "ticks": "",
                      "title": {
                        "standoff": 15
                      },
                      "zerolinecolor": "white",
                      "zerolinewidth": 2
                    },
                    "yaxis": {
                      "automargin": true,
                      "gridcolor": "white",
                      "linecolor": "white",
                      "ticks": "",
                      "title": {
                        "standoff": 15
                      },
                      "zerolinecolor": "white",
                      "zerolinewidth": 2
                    }
                  }
                },
                "title": {
                  "text": "Evaluation Trainingsdaten"
                }
              }
            }
          },
          "metadata": {},
          "output_type": "display_data"
        },
        {
          "name": "stdout",
          "output_type": "stream",
          "text": [
            "Zero-Shot Genauigkeit auf Trainingsdaten: 95.00%\n",
            "Few-Shot Genauigkeit auf Trainingsdaten: 90.00%\n"
          ]
        }
      ],
      "source": [
        "# Zero-Shot auf Trainingsdaten\n",
        "df_train[\"pred_zero_shot\"] = df_train[\"text\"].apply(classify_ticket_zero_shot)\n",
        "df_train[\"correct_zero_shot\"] = df_train[\"pred_zero_shot\"] == df_train[\"category\"]\n",
        "\n",
        "# Few-Shot auf Trainingsdaten\n",
        "df_train[\"pred_few_shot\"] = df_train[\"text\"].apply(classify_ticket_few_shot)\n",
        "df_train[\"correct_few_shot\"] = df_train[\"pred_few_shot\"] == df_train[\"category\"]\n",
        "\n",
        "# Ergebnisse anzeigen\n",
        "display_df(df_train, \"Evaluation Trainingsdaten\")\n",
        "\n",
        "# Genauigkeit berechnen\n",
        "acc_zero = df_train[\"correct_zero_shot\"].mean()\n",
        "acc_few = df_train[\"correct_few_shot\"].mean()\n",
        "print(f\"Zero-Shot Genauigkeit auf Trainingsdaten: {acc_zero:.2%}\")\n",
        "print(f\"Few-Shot Genauigkeit auf Trainingsdaten: {acc_few:.2%}\")"
      ]
    },
    {
      "cell_type": "markdown",
      "id": "273560ac",
      "metadata": {},
      "source": [
        "---\n",
        "### Hinweise für Studierende\n",
        "- Prüft, ob die Verzeichnisse `data/training_data` und `data/test_data` richtig befüllt sind.\n",
        "- Passt ggf. die `temperature` an.\n",
        "- Experimentiert mit mehr oder anderen Prompt-Beispielen \n",
        "- Dokumentiert eure Ergebnisse und analysiert, bei welchen Ticket-Arten die Klassifikation gut bzw. schlecht funktioniert.\n"
      ]
    }
  ],
  "metadata": {
    "kernelspec": {
      "display_name": ".rag",
      "language": "python",
      "name": "python3"
    },
    "language_info": {
      "codemirror_mode": {
        "name": "ipython",
        "version": 3
      },
      "file_extension": ".py",
      "mimetype": "text/x-python",
      "name": "python",
      "nbconvert_exporter": "python",
      "pygments_lexer": "ipython3",
      "version": "3.11.9"
    }
  },
  "nbformat": 4,
  "nbformat_minor": 5
}
