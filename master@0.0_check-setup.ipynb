{
 "cells": [
  {
   "cell_type": "markdown",
   "id": "a9592763-aba5-4a45-beeb-5f488cb6b2e0",
   "metadata": {},
   "source": [
    "# Setup"
   ]
  },
  {
   "cell_type": "markdown",
   "id": "6ba7829f-bb51-480f-a1e1-4ed8191a3638",
   "metadata": {},
   "source": [
    "# Checking Connections\n",
    "## Connection to Doc-Extraction"
   ]
  },
  {
   "cell_type": "code",
   "execution_count": null,
   "id": "a86faae6-7435-46fb-906a-13285240a8ec",
   "metadata": {},
   "outputs": [],
   "source": [
    "#Test Connection - Doc Extractor\n",
    "from docex_client.client import Client as Docex_Client\n",
    "\n",
    "docex_client = Docex_Client(host='doc-extractor', port=8080)\n",
    "\n",
    "if docex_client.ping():\n",
    "    print(f\"✅ - Connection successful!\\nClient: {docex_client}\")\n",
    "else:\n",
    "    print(f\"❌ - Connection not successful!\\nClient: {docex_client}\")"
   ]
  },
  {
   "cell_type": "markdown",
   "id": "61d6087c-1424-4738-aa69-dffac7b04f37",
   "metadata": {},
   "source": [
    "## Connection to Weaviate"
   ]
  },
  {
   "cell_type": "code",
   "execution_count": null,
   "id": "6a4e926c-c1bc-44d3-81bb-7c6083060ac0",
   "metadata": {},
   "outputs": [],
   "source": [
    "from weaviate import connect_to_local\n",
    "import os\n",
    "\n",
    "# Get network information from ENV_VARS\n",
    "host = os.getenv(\"WEAVIATE_HOST\", \"vdatabase\")\n",
    "port = int(os.getenv(\"WEWEAVIATE_PORT\", 8080))\n",
    "grpc_port = int(os.getenv(\"WEWEAVIATE_PORT\", 50051))\n",
    "\n",
    "# Connect to Weaviate and check connection\n",
    "with connect_to_local(host, port, grpc_port) as client:\n",
    "    \n",
    "    if(client.is_ready()):\n",
    "        print(f\"✅ - Connection successful!\\nClient: {client}\")\n",
    "    else:\n",
    "        print(f\"❌ - Connection not successful!\\nClient: {client}\")"
   ]
  },
  {
   "cell_type": "markdown",
   "id": "994f6fc4-2072-432c-9eb9-08be5efbc94e",
   "metadata": {},
   "source": [
    "## Connection to OpenAI"
   ]
  },
  {
   "cell_type": "code",
   "execution_count": null,
   "id": "772a221b-78f9-4944-8575-66cdc95b0d95",
   "metadata": {},
   "outputs": [],
   "source": [
    "import openai\n",
    "\n",
    "client = openai.OpenAI()\n",
    "model = 'text-embedding-3-small'\n",
    "query = 't'\n",
    "\n",
    "try:\n",
    "    response = client.embeddings.create(\n",
    "                    model=model,\n",
    "                    input=query,\n",
    "                )\n",
    "    print(f\"✅ - Connection successful!\\nClient: {client}\")\n",
    "except Exception as e:\n",
    "    print(f\"❌ - Connection not successful!\\nClient: {client} | {e}\")"
   ]
  }
 ],
 "metadata": {
  "kernelspec": {
   "display_name": "Python 3 (ipykernel)",
   "language": "python",
   "name": "python3"
  },
  "language_info": {
   "codemirror_mode": {
    "name": "ipython",
    "version": 3
   },
   "file_extension": ".py",
   "mimetype": "text/x-python",
   "name": "python",
   "nbconvert_exporter": "python",
   "pygments_lexer": "ipython3",
   "version": "3.9.21"
  }
 },
 "nbformat": 4,
 "nbformat_minor": 5
}
